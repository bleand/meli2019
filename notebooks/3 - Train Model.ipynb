{
 "cells": [
  {
   "cell_type": "markdown",
   "id": "b1363090",
   "metadata": {},
   "source": [
    "## MeLi Data Challenge 2019\n",
    "\n",
    "This notebook is part of a curated version of my original solution for the MeLi Data Challenge hosted by [Mercado Libre](https://www.mercadolibre.com/) in 2019\n",
    "\n",
    "The goal of this first challenge was to create a model that would classify items into categories based solely on the item’s title. \n",
    "\n",
    "This title is a free text input from the seller that would become the header of the listings.\n",
    "\n",
    "<div class=\"alert alert-block alert-info\">\n",
    "<b>Note</b> <p>Only 10% of the data is used in the notebooks to improve the experience.</p>\n",
    "    <p>Also, data is not being splitted by language in this notebooks for simplicity reasons only</p>\n",
    "    <p>In the scripted version, 100% of the data is used to improve results</p>\n",
    "</div>\n",
    "\n",
    "### 2 - Train Model\n",
    "\n",
    "In this notebook, we train a CNN using all the data created in the previous steps"
   ]
  },
  {
   "cell_type": "markdown",
   "id": "d81b3d89",
   "metadata": {},
   "source": [
    "### Import libraries"
   ]
  },
  {
   "cell_type": "code",
   "execution_count": 1,
   "id": "6fcb4231",
   "metadata": {},
   "outputs": [],
   "source": [
    "import pandas as pd\n",
    "import joblib\n",
    "import numpy as np\n",
    "from sklearn.model_selection import train_test_split\n",
    "import copy\n",
    "from tqdm.auto import tqdm\n",
    "from tensorflow.keras.layers import Input, Dense, Embedding, Conv2D\n",
    "from tensorflow.keras.layers import MaxPooling2D, Dropout, concatenate, Bidirectional, LSTM, MaxPooling1D, Activation, SpatialDropout1D\n",
    "from tensorflow.keras.layers import Reshape, Flatten\n",
    "from tensorflow.keras.callbacks import ModelCheckpoint\n",
    "from tensorflow.keras.optimizers import Adam\n",
    "from tensorflow.keras.models import Model\n",
    "from tensorflow.keras.layers import BatchNormalization\n",
    "from tensorflow.keras import regularizers\n",
    "from tensorflow.keras.callbacks import ModelCheckpoint, EarlyStopping, ReduceLROnPlateau\n",
    "import matplotlib.pyplot as plt\n",
    "from sklearn.metrics import balanced_accuracy_score, classification_report\n",
    "import csv"
   ]
  },
  {
   "cell_type": "markdown",
   "id": "6b63185c",
   "metadata": {},
   "source": [
    "### Load data"
   ]
  },
  {
   "cell_type": "code",
   "execution_count": 2,
   "id": "9aad3e7c",
   "metadata": {},
   "outputs": [],
   "source": [
    "df = pd.read_pickle('./../data/df.pkl')\n",
    "len_sent = joblib.load('./../data/len_sent.h5')"
   ]
  },
  {
   "cell_type": "markdown",
   "id": "64075504",
   "metadata": {},
   "source": [
    "### Encode cateogories and save the references"
   ]
  },
  {
   "cell_type": "code",
   "execution_count": 3,
   "id": "7ae9a69c",
   "metadata": {},
   "outputs": [
    {
     "data": {
      "text/plain": [
       "['./../data/levels']"
      ]
     },
     "execution_count": 3,
     "metadata": {},
     "output_type": "execute_result"
    }
   ],
   "source": [
    "nb_classes = len(np.unique(df['category']))\n",
    "labels, levels = pd.factorize(df['category'])        \n",
    "joblib.dump(nb_classes,'./../data/nb_classes')\n",
    "joblib.dump(levels,'./../data/levels')"
   ]
  },
  {
   "cell_type": "markdown",
   "id": "93efd176",
   "metadata": {},
   "source": [
    "### Split data \n",
    "\n",
    "We now split data into train and validation\n",
    "<div class=\"alert alert-block alert-info\">\n",
    "<b>Note</b> <p>In <b>2- PreProcess</b> we also splitted the data in order to have a testing set</p>\n",
    "</div>"
   ]
  },
  {
   "cell_type": "code",
   "execution_count": 4,
   "id": "1d50a530",
   "metadata": {},
   "outputs": [],
   "source": [
    "train_df, val_df = train_test_split(df,test_size=0.1, stratify=df['category'])"
   ]
  },
  {
   "cell_type": "markdown",
   "id": "e3d04d14",
   "metadata": {},
   "source": [
    "### Data preparation steps\n",
    "Here, we extract the values from the dataframes and generate the necessary encoded labels"
   ]
  },
  {
   "cell_type": "code",
   "execution_count": 5,
   "id": "55172c0c",
   "metadata": {},
   "outputs": [],
   "source": [
    "y = copy.deepcopy(train_df['category'].values)\n",
    "x = copy.deepcopy(train_df['input_data'].values)\n",
    "y_val_in = copy.deepcopy(val_df['category'].values)\n",
    "x_val_in = copy.deepcopy(val_df['input_data'].values)"
   ]
  },
  {
   "cell_type": "code",
   "execution_count": 6,
   "id": "716ac576",
   "metadata": {},
   "outputs": [],
   "source": [
    "x = np.stack(x)\n",
    "x_val = np.stack(x_val_in)"
   ]
  },
  {
   "cell_type": "code",
   "execution_count": 7,
   "id": "ff1376cd",
   "metadata": {},
   "outputs": [],
   "source": [
    "def indices_to_one_hot(data, nb_classes):\n",
    "    \"\"\"Convert an iterable of indices to one-hot encoded labels.\"\"\"\n",
    "    targets = np.array(data, dtype=np.int16).reshape(-1)\n",
    "    return np.eye(nb_classes,dtype=np.int8)[targets]"
   ]
  },
  {
   "cell_type": "code",
   "execution_count": 8,
   "id": "0a9620b1",
   "metadata": {},
   "outputs": [
    {
     "data": {
      "application/json": {
       "ascii": false,
       "bar_format": null,
       "colour": null,
       "elapsed": 0.013996124267578125,
       "initial": 0,
       "n": 0,
       "ncols": null,
       "nrows": 62,
       "postfix": null,
       "prefix": "",
       "rate": null,
       "total": 161994,
       "unit": "it",
       "unit_divisor": 1000,
       "unit_scale": false
      },
      "application/vnd.jupyter.widget-view+json": {
       "model_id": "6958c0ed33fc42f2ac9db67039ef25a7",
       "version_major": 2,
       "version_minor": 0
      },
      "text/plain": [
       "  0%|          | 0/161994 [00:00<?, ?it/s]"
      ]
     },
     "metadata": {},
     "output_type": "display_data"
    },
    {
     "data": {
      "application/json": {
       "ascii": false,
       "bar_format": null,
       "colour": null,
       "elapsed": 0.011940956115722656,
       "initial": 0,
       "n": 0,
       "ncols": null,
       "nrows": 62,
       "postfix": null,
       "prefix": "",
       "rate": null,
       "total": 18000,
       "unit": "it",
       "unit_divisor": 1000,
       "unit_scale": false
      },
      "application/vnd.jupyter.widget-view+json": {
       "model_id": "c026eae9063a4659a9bd20933dc77607",
       "version_major": 2,
       "version_minor": 0
      },
      "text/plain": [
       "  0%|          | 0/18000 [00:00<?, ?it/s]"
      ]
     },
     "metadata": {},
     "output_type": "display_data"
    }
   ],
   "source": [
    "y = [np.where(levels == i)[0][0] for i in tqdm(y)]\n",
    "y_val = [np.where(levels == i)[0][0] for i in tqdm(y_val_in)]"
   ]
  },
  {
   "cell_type": "code",
   "execution_count": 9,
   "id": "567b2a15",
   "metadata": {},
   "outputs": [],
   "source": [
    "from sklearn.utils import class_weight\n",
    "class_weights = class_weight.compute_class_weight(class_weight ='balanced',\n",
    "                                                 classes = np.unique(y),\n",
    "                                                 y = y)\n",
    "class_weights = dict(zip(np.unique(y), class_weights))"
   ]
  },
  {
   "cell_type": "code",
   "execution_count": 10,
   "id": "f5e9f3fd",
   "metadata": {},
   "outputs": [],
   "source": [
    "y = indices_to_one_hot(y, nb_classes)\n",
    "y_val = indices_to_one_hot(y_val, nb_classes)"
   ]
  },
  {
   "cell_type": "markdown",
   "id": "506d4ea3",
   "metadata": {},
   "source": [
    "### Define model"
   ]
  },
  {
   "cell_type": "code",
   "execution_count": 11,
   "id": "b5b495a6",
   "metadata": {},
   "outputs": [],
   "source": [
    "output_shape = y_val.shape[1]"
   ]
  },
  {
   "cell_type": "code",
   "execution_count": 12,
   "id": "1d988492",
   "metadata": {},
   "outputs": [],
   "source": [
    "def cnn_model(input_dim, output_shape, path=''):\n",
    "    \n",
    "    filter_sizes = [1, 2, 3, 4]\n",
    "    num_filters = 200\n",
    "    output_dim = 2000\n",
    "    drop = 0.5\n",
    "    \n",
    "    weights = np.load(open(path+'/embeddings.npz', 'rb'))\n",
    "    embedding_dim = weights.shape[1]\n",
    "    \n",
    "    inputs = Input(shape=(input_dim,), dtype='int32')\n",
    "    \n",
    "    embedding = Embedding(output_dim=weights.shape[1], input_dim=weights.shape[0], input_length=input_dim,\n",
    "                              weights=[weights], trainable=True)(inputs)\n",
    "                              \n",
    "    spatial_dropout = SpatialDropout1D(0.5)(embedding)\n",
    "        \n",
    "    reshape = Reshape((input_dim, embedding_dim, 1))(spatial_dropout)\n",
    "\n",
    "    conv_0 = Conv2D(num_filters, (filter_sizes[0], embedding_dim), padding='valid', kernel_initializer='normal',\n",
    "                           activation='sigmoid', data_format='channels_last')(reshape)\n",
    "    conv_1 = Conv2D(num_filters, (filter_sizes[1], embedding_dim), padding='valid', kernel_initializer='normal',\n",
    "                           activation='sigmoid', data_format='channels_last')(reshape)\n",
    "    conv_2 = Conv2D(num_filters, (filter_sizes[2], embedding_dim), padding='valid', kernel_initializer='normal',\n",
    "                           activation='sigmoid', data_format='channels_last')(reshape)\n",
    "    conv_3 = Conv2D(num_filters, (filter_sizes[3], embedding_dim), padding='valid', kernel_initializer='normal',\n",
    "                       activation='sigmoid', data_format='channels_last')(reshape)\n",
    "\n",
    "\n",
    "    maxpool_0 = MaxPooling2D(pool_size=(input_dim - filter_sizes[0] + 1, 1), strides=(1, 1),\n",
    "                             padding='valid', data_format='channels_last')(conv_0)\n",
    "    maxpool_1 = MaxPooling2D(pool_size=(input_dim - filter_sizes[1] + 1, 1), strides=(1, 1),\n",
    "                             padding='valid', data_format='channels_last')(conv_1)\n",
    "    maxpool_2 = MaxPooling2D(pool_size=(input_dim - filter_sizes[2] + 1, 1), strides=(1, 1),\n",
    "                             padding='valid', data_format='channels_last')(conv_2)\n",
    "    maxpool_3 = MaxPooling2D(pool_size=(input_dim - filter_sizes[3] + 1, 1), strides=(1, 1),\n",
    "                             padding='valid', data_format='channels_last')(conv_3)\n",
    "\n",
    "    merged_tensor = concatenate([maxpool_0, maxpool_1, maxpool_2, maxpool_3], axis=1)\n",
    "    \n",
    "    flatten = Flatten()(merged_tensor)\n",
    "    \n",
    "    #dense1 = Dense(units=output_dim, kernel_regularizer=regularizers.l2(0.01))(flatten)\n",
    "    dense1 = Dense(units=output_dim)(flatten)\n",
    "    #dense1 = BatchNormalization()(dense1)\n",
    "    dense1 = Activation('relu')(dense1)\n",
    "    dense1 = Dropout(drop)(dense1)\n",
    "\n",
    "    #dense2 = Dense(units=output_dim, kernel_regularizer=regularizers.l2(0.01))(dense1)\n",
    "    dense2 = Dense(units=output_dim)(dense1)\n",
    "    #dense2 = BatchNormalization()(dense2)\n",
    "    dense2 = Activation('relu')(dense2)\n",
    "    dense2 = Dropout(drop)(dense2)\n",
    "\n",
    "    #dense2 = Dense(units=output_dim, activation='relu')(dense1)\n",
    "    #dense3 = Dense(units=output_dim, activation='relu')(dense2)\n",
    "    output = Dense(units=output_shape)(dense1)\n",
    "    #output = BatchNormalization()(output)\n",
    "    output = Activation('softmax')(output)\n",
    "\n",
    "\n",
    "    #output = Dense(units=output_shape, activation='softmax')(normalized_1)\n",
    "    \n",
    "    model = Model(inputs=inputs, outputs=output)\n",
    "    \n",
    "    return model"
   ]
  },
  {
   "cell_type": "code",
   "execution_count": 13,
   "id": "b5c0697c",
   "metadata": {},
   "outputs": [],
   "source": [
    "model = cnn_model(len_sent, output_shape, path='./../data')"
   ]
  },
  {
   "cell_type": "code",
   "execution_count": 14,
   "id": "fe6cdcaf",
   "metadata": {},
   "outputs": [],
   "source": [
    "adam = Adam(lr=1e-4, beta_1=0.9, beta_2=0.999, epsilon=1e-08)\n",
    "model.compile(optimizer=adam, loss='categorical_crossentropy', metrics=['accuracy'])\n",
    "model.save('./../data/my_model.h5')"
   ]
  },
  {
   "cell_type": "code",
   "execution_count": 15,
   "id": "5969ea00",
   "metadata": {},
   "outputs": [],
   "source": [
    "checkpoint = ModelCheckpoint('./../data/weights.hdf5', monitor='val_accuracy', verbose=2,\n",
    "                                             save_best_only=True, mode='auto')\n",
    "early_stopping = EarlyStopping(monitor='val_loss',patience=6, verbose = 1)\n",
    "reduceLR = ReduceLROnPlateau(monitor='val_loss',factor=0.33,patience=2,verbose = 1)"
   ]
  },
  {
   "cell_type": "code",
   "execution_count": 16,
   "id": "84a81c25",
   "metadata": {
    "scrolled": false
   },
   "outputs": [
    {
     "name": "stdout",
     "output_type": "stream",
     "text": [
      "Model: \"functional_1\"\n",
      "__________________________________________________________________________________________________\n",
      "Layer (type)                    Output Shape         Param #     Connected to                     \n",
      "==================================================================================================\n",
      "input_1 (InputLayer)            [(None, 24)]         0                                            \n",
      "__________________________________________________________________________________________________\n",
      "embedding (Embedding)           (None, 24, 300)      1966500     input_1[0][0]                    \n",
      "__________________________________________________________________________________________________\n",
      "spatial_dropout1d (SpatialDropo (None, 24, 300)      0           embedding[0][0]                  \n",
      "__________________________________________________________________________________________________\n",
      "reshape (Reshape)               (None, 24, 300, 1)   0           spatial_dropout1d[0][0]          \n",
      "__________________________________________________________________________________________________\n",
      "conv2d (Conv2D)                 (None, 24, 1, 200)   60200       reshape[0][0]                    \n",
      "__________________________________________________________________________________________________\n",
      "conv2d_1 (Conv2D)               (None, 23, 1, 200)   120200      reshape[0][0]                    \n",
      "__________________________________________________________________________________________________\n",
      "conv2d_2 (Conv2D)               (None, 22, 1, 200)   180200      reshape[0][0]                    \n",
      "__________________________________________________________________________________________________\n",
      "conv2d_3 (Conv2D)               (None, 21, 1, 200)   240200      reshape[0][0]                    \n",
      "__________________________________________________________________________________________________\n",
      "max_pooling2d (MaxPooling2D)    (None, 1, 1, 200)    0           conv2d[0][0]                     \n",
      "__________________________________________________________________________________________________\n",
      "max_pooling2d_1 (MaxPooling2D)  (None, 1, 1, 200)    0           conv2d_1[0][0]                   \n",
      "__________________________________________________________________________________________________\n",
      "max_pooling2d_2 (MaxPooling2D)  (None, 1, 1, 200)    0           conv2d_2[0][0]                   \n",
      "__________________________________________________________________________________________________\n",
      "max_pooling2d_3 (MaxPooling2D)  (None, 1, 1, 200)    0           conv2d_3[0][0]                   \n",
      "__________________________________________________________________________________________________\n",
      "concatenate (Concatenate)       (None, 4, 1, 200)    0           max_pooling2d[0][0]              \n",
      "                                                                 max_pooling2d_1[0][0]            \n",
      "                                                                 max_pooling2d_2[0][0]            \n",
      "                                                                 max_pooling2d_3[0][0]            \n",
      "__________________________________________________________________________________________________\n",
      "flatten (Flatten)               (None, 800)          0           concatenate[0][0]                \n",
      "__________________________________________________________________________________________________\n",
      "dense (Dense)                   (None, 2000)         1602000     flatten[0][0]                    \n",
      "__________________________________________________________________________________________________\n",
      "activation (Activation)         (None, 2000)         0           dense[0][0]                      \n",
      "__________________________________________________________________________________________________\n",
      "dropout (Dropout)               (None, 2000)         0           activation[0][0]                 \n",
      "__________________________________________________________________________________________________\n",
      "dense_2 (Dense)                 (None, 1556)         3113556     dropout[0][0]                    \n",
      "__________________________________________________________________________________________________\n",
      "activation_2 (Activation)       (None, 1556)         0           dense_2[0][0]                    \n",
      "==================================================================================================\n",
      "Total params: 7,282,856\n",
      "Trainable params: 7,282,856\n",
      "Non-trainable params: 0\n",
      "__________________________________________________________________________________________________\n"
     ]
    }
   ],
   "source": [
    "model.summary()"
   ]
  },
  {
   "cell_type": "code",
   "execution_count": 17,
   "id": "b8a4b28f",
   "metadata": {
    "scrolled": false
   },
   "outputs": [
    {
     "name": "stdout",
     "output_type": "stream",
     "text": [
      "Epoch 1/5\n",
      "317/317 [==============================] - ETA: 0s - loss: 7.3703 - accuracy: 7.5929e-04\n",
      "Epoch 00001: val_accuracy improved from -inf to 0.00150, saving model to ./../data\\weights.hdf5\n",
      "317/317 [==============================] - 37s 117ms/step - loss: 7.3703 - accuracy: 7.5929e-04 - val_loss: 7.3461 - val_accuracy: 0.0015\n",
      "Epoch 2/5\n",
      "317/317 [==============================] - ETA: 0s - loss: 7.3504 - accuracy: 9.0127e-04\n",
      "Epoch 00002: val_accuracy did not improve from 0.00150\n",
      "317/317 [==============================] - 36s 115ms/step - loss: 7.3504 - accuracy: 9.0127e-04 - val_loss: 7.3473 - val_accuracy: 3.3333e-04\n",
      "Epoch 3/5\n",
      "317/317 [==============================] - ETA: 0s - loss: 7.3504 - accuracy: 8.6423e-04\n",
      "Epoch 00003: val_accuracy did not improve from 0.00150\n",
      "\n",
      "Epoch 00003: ReduceLROnPlateau reducing learning rate to 3.2999999166349884e-05.\n",
      "317/317 [==============================] - 37s 115ms/step - loss: 7.3504 - accuracy: 8.6423e-04 - val_loss: 7.3477 - val_accuracy: 6.1111e-04\n",
      "Epoch 4/5\n",
      "317/317 [==============================] - ETA: 0s - loss: 7.3499 - accuracy: 0.0013\n",
      "Epoch 00004: val_accuracy did not improve from 0.00150\n",
      "317/317 [==============================] - 36s 115ms/step - loss: 7.3499 - accuracy: 0.0013 - val_loss: 7.3485 - val_accuracy: 0.0013\n",
      "Epoch 5/5\n",
      "317/317 [==============================] - ETA: 0s - loss: 7.3498 - accuracy: 0.0010\n",
      "Epoch 00005: val_accuracy did not improve from 0.00150\n",
      "\n",
      "Epoch 00005: ReduceLROnPlateau reducing learning rate to 1.0890000085055363e-05.\n",
      "317/317 [==============================] - 37s 115ms/step - loss: 7.3498 - accuracy: 0.0010 - val_loss: 7.3485 - val_accuracy: 4.4444e-04\n"
     ]
    }
   ],
   "source": [
    "batch_size = 512\n",
    "nb_epoch = 5\n",
    "history = model.fit(x, y, batch_size=batch_size, epochs=nb_epoch, verbose=1,\n",
    "                              callbacks=[checkpoint, early_stopping, reduceLR], \n",
    "                    validation_data=(x_val, y_val), class_weight=class_weights)"
   ]
  },
  {
   "cell_type": "markdown",
   "id": "c6bae20a",
   "metadata": {},
   "source": [
    "### Plot training"
   ]
  },
  {
   "cell_type": "code",
   "execution_count": 18,
   "id": "833ee5ec",
   "metadata": {},
   "outputs": [],
   "source": [
    "def plot_history(history, pref=None):\n",
    "    acc = history.history['accuracy']\n",
    "    val_acc = history.history['val_accuracy']\n",
    "    loss = history.history['loss']\n",
    "    val_loss = history.history['val_loss']\n",
    "    x = range(1, len(acc) + 1)\n",
    "\n",
    "    plt.figure(figsize=(12, 5))\n",
    "    plt.subplot(1, 2, 1)\n",
    "    plt.plot(x, acc, 'b', label='Training acc')\n",
    "    plt.plot(x, val_acc, 'r', label='Validation acc')\n",
    "    plt.title('Training and validation accuracy')\n",
    "    plt.legend()\n",
    "    plt.subplot(1, 2, 2)\n",
    "    plt.plot(x, loss, 'b', label='Training loss')\n",
    "    plt.plot(x, val_loss, 'r', label='Validation loss')\n",
    "    plt.title('Training and validation loss')\n",
    "    plt.legend()"
   ]
  },
  {
   "cell_type": "code",
   "execution_count": 19,
   "id": "ee36b7b3",
   "metadata": {},
   "outputs": [
    {
     "data": {
      "image/png": "[encoded data removed]",
      "text/plain": [
       "<Figure size 1200x500 with 2 Axes>"
      ]
     },
     "metadata": {},
     "output_type": "display_data"
    }
   ],
   "source": [
    "plot_history(history)"
   ]
  },
  {
   "cell_type": "markdown",
   "id": "517bc83a",
   "metadata": {},
   "source": [
    "### Calculat BACC on Test Set\n",
    "\n",
    "The metric used for evaluation in the challenge was Balanced Accuracy"
   ]
  },
  {
   "cell_type": "code",
   "execution_count": 20,
   "id": "4756c2e5",
   "metadata": {},
   "outputs": [],
   "source": [
    "df_test = pd.read_pickle('./../data/df_test.pkl')\n",
    "xt = np.stack(df_test['input_data'])\n",
    "outputs = model.predict(xt)"
   ]
  },
  {
   "cell_type": "code",
   "execution_count": 21,
   "id": "6651b280",
   "metadata": {},
   "outputs": [],
   "source": [
    "yt = [np.where(levels==i)[0][0] for i in df_test['category']]"
   ]
  },
  {
   "cell_type": "code",
   "execution_count": 22,
   "id": "100cb493",
   "metadata": {},
   "outputs": [],
   "source": [
    "yt = np.array(yt)"
   ]
  },
  {
   "cell_type": "code",
   "execution_count": 23,
   "id": "6c32369f",
   "metadata": {},
   "outputs": [],
   "source": [
    "yt = indices_to_one_hot(yt, nb_classes)"
   ]
  },
  {
   "cell_type": "code",
   "execution_count": 24,
   "id": "89cf5d78",
   "metadata": {},
   "outputs": [],
   "source": [
    "bacc = balanced_accuracy_score(np.argmax(yt, axis=1), np.argmax(outputs, axis=1))"
   ]
  },
  {
   "cell_type": "code",
   "execution_count": 25,
   "id": "ccda8c41",
   "metadata": {},
   "outputs": [
    {
     "name": "stdout",
     "output_type": "stream",
     "text": [
      "Bacc: 0.11%\n"
     ]
    }
   ],
   "source": [
    "print(f\"Bacc: {round(bacc*100, 2)}%\")"
   ]
  },
  {
   "cell_type": "markdown",
   "id": "268a43ed",
   "metadata": {},
   "source": [
    "### Generate output file with predictions\n",
    "\n",
    "In order to analyze how each class is performing, we print in a csv file some detailed information\n",
    "\n",
    "This was used mostly to identify wordings specific to some classes that were replaced with generic tags using ReGex"
   ]
  },
  {
   "cell_type": "code",
   "execution_count": 26,
   "id": "b5a03a2b",
   "metadata": {},
   "outputs": [],
   "source": [
    "def output_csv(y_true,y_pred,  orig_test, pad_test, language='spanish', path='', bacc = 0):\n",
    "    levels = joblib.load('./../data/levels')\n",
    "    csv_file = open('output_CNN.csv', 'w', newline='', encoding='utf-8')\n",
    "    writer = csv.writer(csv_file)\n",
    "    writer.writerow(\n",
    "        ['Original','Padded','Human', 'Pred', 'Prob', 'BACC'])\n",
    "    ix = 0\n",
    "    cat_true = []\n",
    "    cat_pred = []\n",
    "    first = 0\n",
    "    for y,h,o,p in zip(y_true,y_pred,orig_test, pad_test):\n",
    "        cat_true.append(levels[np.argmax(y)])\n",
    "        cat_pred.append(levels[np.argmax(h)])\n",
    "        if first == 0:\n",
    "            writer.writerow([o,p,levels[np.argmax(y)], levels[np.argmax(h)],h[np.argmax(h)],bacc])\n",
    "            first = 1\n",
    "        else:\n",
    "            writer.writerow([o,p,levels[np.argmax(y)], levels[np.argmax(h)], h[np.argmax(h)]])\n",
    "    report = classification_report(cat_true, cat_pred, output_dict=True)\n",
    "    df = pd.DataFrame(report)\n",
    "    df.to_csv('report.csv')\n",
    "\n",
    "    csv_file.close()"
   ]
  },
  {
   "cell_type": "code",
   "execution_count": 27,
   "id": "1bae3edc",
   "metadata": {
    "collapsed": true
   },
   "outputs": [
    {
     "name": "stderr",
     "output_type": "stream",
     "text": [
      "c:\\users\\basla\\documents\\projects\\bleandblog\\bleandblog_posts\\meli2019\\meli2019\\lib\\site-packages\\sklearn\\metrics\\_classification.py:1334: UndefinedMetricWarning: Precision and F-score are ill-defined and being set to 0.0 in labels with no predicted samples. Use `zero_division` parameter to control this behavior.\n",
      "  _warn_prf(average, modifier, msg_start, len(result))\n",
      "c:\\users\\basla\\documents\\projects\\bleandblog\\bleandblog_posts\\meli2019\\meli2019\\lib\\site-packages\\sklearn\\metrics\\_classification.py:1334: UndefinedMetricWarning: Precision and F-score are ill-defined and being set to 0.0 in labels with no predicted samples. Use `zero_division` parameter to control this behavior.\n",
      "  _warn_prf(average, modifier, msg_start, len(result))\n",
      "c:\\users\\basla\\documents\\projects\\bleandblog\\bleandblog_posts\\meli2019\\meli2019\\lib\\site-packages\\sklearn\\metrics\\_classification.py:1334: UndefinedMetricWarning: Precision and F-score are ill-defined and being set to 0.0 in labels with no predicted samples. Use `zero_division` parameter to control this behavior.\n",
      "  _warn_prf(average, modifier, msg_start, len(result))\n"
     ]
    }
   ],
   "source": [
    "output_csv(yt,outputs, df_test['title'].values, df_test['sentences_padded'].values, bacc = bacc)"
   ]
  },
  {
   "cell_type": "code",
   "execution_count": 28,
   "id": "fd83c14d",
   "metadata": {},
   "outputs": [
    {
     "data": {
      "text/html": [
       "<div>\n",
       "<style scoped>\n",
       "    .dataframe tbody tr th:only-of-type {\n",
       "        vertical-align: middle;\n",
       "    }\n",
       "\n",
       "    .dataframe tbody tr th {\n",
       "        vertical-align: top;\n",
       "    }\n",
       "\n",
       "    .dataframe thead th {\n",
       "        text-align: right;\n",
       "    }\n",
       "</style>\n",
       "<table border=\"1\" class=\"dataframe\">\n",
       "  <thead>\n",
       "    <tr style=\"text-align: right;\">\n",
       "      <th></th>\n",
       "      <th>Original</th>\n",
       "      <th>Padded</th>\n",
       "      <th>Human</th>\n",
       "      <th>Pred</th>\n",
       "      <th>Prob</th>\n",
       "      <th>BACC</th>\n",
       "    </tr>\n",
       "  </thead>\n",
       "  <tbody>\n",
       "    <tr>\n",
       "      <th>0</th>\n",
       "      <td>Multi-capas Jjc 40.5mm Uv Filtro Filtro Ultrav...</td>\n",
       "      <td>['multi', 'cap', 'jjc', '&lt;smeasure&gt;', 'uv', 'f...</td>\n",
       "      <td>LENS_FILTERS</td>\n",
       "      <td>LAPTOP_STANDS</td>\n",
       "      <td>0.000656</td>\n",
       "      <td>0.001051</td>\n",
       "    </tr>\n",
       "    <tr>\n",
       "      <th>1</th>\n",
       "      <td>Envase Plastico Rectangular Con Precinto En Ta...</td>\n",
       "      <td>['envas', 'plastic', 'rectangul', 'precint', '...</td>\n",
       "      <td>PACKAGING_CONTAINERS</td>\n",
       "      <td>LAPTOP_STANDS</td>\n",
       "      <td>0.000658</td>\n",
       "      <td>NaN</td>\n",
       "    </tr>\n",
       "    <tr>\n",
       "      <th>2</th>\n",
       "      <td>Freezer Vertical 7 Cajones Acero Kohinoor Gsa2...</td>\n",
       "      <td>['freez', 'vertical', '&lt;number&gt;', 'cajon', 'ac...</td>\n",
       "      <td>FREEZERS</td>\n",
       "      <td>LAPTOP_STANDS</td>\n",
       "      <td>0.000657</td>\n",
       "      <td>NaN</td>\n",
       "    </tr>\n",
       "    <tr>\n",
       "      <th>3</th>\n",
       "      <td>Tazas De Rueda Gol Gti 14\\  Todos Los Modelos ...</td>\n",
       "      <td>['taz', 'rued', 'gol', 'gti', '&lt;number&gt;', 'tod...</td>\n",
       "      <td>AUTOMOTIVE_WHEEL_COVERS</td>\n",
       "      <td>LAPTOP_STANDS</td>\n",
       "      <td>0.000657</td>\n",
       "      <td>NaN</td>\n",
       "    </tr>\n",
       "    <tr>\n",
       "      <th>4</th>\n",
       "      <td>Accesorios De Baño Porta Cepillo Dientes Fv Mi...</td>\n",
       "      <td>['accesori', 'ban', 'port', 'cepill', 'dient',...</td>\n",
       "      <td>TOOTHBRUSH_HOLDERS</td>\n",
       "      <td>LAPTOP_STANDS</td>\n",
       "      <td>0.000660</td>\n",
       "      <td>NaN</td>\n",
       "    </tr>\n",
       "  </tbody>\n",
       "</table>\n",
       "</div>"
      ],
      "text/plain": [
       "                                            Original  \\\n",
       "0  Multi-capas Jjc 40.5mm Uv Filtro Filtro Ultrav...   \n",
       "1  Envase Plastico Rectangular Con Precinto En Ta...   \n",
       "2  Freezer Vertical 7 Cajones Acero Kohinoor Gsa2...   \n",
       "3  Tazas De Rueda Gol Gti 14\\  Todos Los Modelos ...   \n",
       "4  Accesorios De Baño Porta Cepillo Dientes Fv Mi...   \n",
       "\n",
       "                                              Padded                    Human  \\\n",
       "0  ['multi', 'cap', 'jjc', '<smeasure>', 'uv', 'f...             LENS_FILTERS   \n",
       "1  ['envas', 'plastic', 'rectangul', 'precint', '...     PACKAGING_CONTAINERS   \n",
       "2  ['freez', 'vertical', '<number>', 'cajon', 'ac...                 FREEZERS   \n",
       "3  ['taz', 'rued', 'gol', 'gti', '<number>', 'tod...  AUTOMOTIVE_WHEEL_COVERS   \n",
       "4  ['accesori', 'ban', 'port', 'cepill', 'dient',...       TOOTHBRUSH_HOLDERS   \n",
       "\n",
       "            Pred      Prob      BACC  \n",
       "0  LAPTOP_STANDS  0.000656  0.001051  \n",
       "1  LAPTOP_STANDS  0.000658       NaN  \n",
       "2  LAPTOP_STANDS  0.000657       NaN  \n",
       "3  LAPTOP_STANDS  0.000657       NaN  \n",
       "4  LAPTOP_STANDS  0.000660       NaN  "
      ]
     },
     "execution_count": 28,
     "metadata": {},
     "output_type": "execute_result"
    }
   ],
   "source": [
    "pd.read_csv('output_CNN.csv').head()"
   ]
  }
 ],
 "metadata": {
  "kernelspec": {
   "display_name": "meli2019",
   "language": "python",
   "name": "meli2019"
  },
  "language_info": {
   "codemirror_mode": {
    "name": "ipython",
    "version": 3
   },
   "file_extension": ".py",
   "mimetype": "text/x-python",
   "name": "python",
   "nbconvert_exporter": "python",
   "pygments_lexer": "ipython3",
   "version": "3.8.10"
  }
 },
 "nbformat": 4,
 "nbformat_minor": 5
}
