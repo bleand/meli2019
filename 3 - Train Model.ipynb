{
 "cells": [
  {
   "cell_type": "markdown",
   "id": "b1363090",
   "metadata": {},
   "source": [
    "## MeLi Data Challenge 2019\n",
    "\n",
    "This notebook is part of a curated version of my original solution for the MeLi Data Challenge hosted by [Mercado Libre](https://www.mercadolibre.com/) in 2019\n",
    "\n",
    "The goal of this first challenge was to create a model that would classify items into categories based solely on the item’s title. \n",
    "\n",
    "This title is a free text input from the seller that would become the header of the listings.\n",
    "\n",
    "<div class=\"alert alert-block alert-info\">\n",
    "<b>Note</b> <p>Only 10% of the data is used in the notebooks to improve the experience.</p>\n",
    "    <p>Also, data is not being splitted by language in this notebooks for simplicity reasons only</p>\n",
    "    <p>In the scripted version, 100% of the data is used to improve results</p>\n",
    "</div>\n",
    "\n",
    "### 2 - Train Model\n",
    "\n",
    "In this notebook, we train a CNN using all the data created in the previous steps"
   ]
  },
  {
   "cell_type": "markdown",
   "id": "d81b3d89",
   "metadata": {},
   "source": [
    "### Import libraries"
   ]
  },
  {
   "cell_type": "code",
   "execution_count": 67,
   "id": "6fcb4231",
   "metadata": {},
   "outputs": [],
   "source": [
    "import pandas as pd\n",
    "import joblib\n",
    "import numpy as np\n",
    "from sklearn.model_selection import train_test_split\n",
    "import copy\n",
    "from tensorflow.keras.layers import Input, Dense, Embedding, Conv2D\n",
    "from tensorflow.keras.layers import MaxPooling2D, Dropout, concatenate, Bidirectional, LSTM, MaxPooling1D, Activation, SpatialDropout1D\n",
    "from tensorflow.keras.layers import Reshape, Flatten\n",
    "from tensorflow.keras.callbacks import ModelCheckpoint\n",
    "from tensorflow.keras.optimizers import Adam\n",
    "from tensorflow.keras.models import Model\n",
    "from tensorflow.keras.layers import BatchNormalization\n",
    "from tensorflow.keras import regularizers\n",
    "from tensorflow.keras.callbacks import ModelCheckpoint, EarlyStopping, ReduceLROnPlateau\n",
    "from statics import *\n",
    "import matplotlib.pyplot as plt\n",
    "from sklearn.metrics import balanced_accuracy_score, classification_report\n",
    "import csv"
   ]
  },
  {
   "cell_type": "markdown",
   "id": "6b63185c",
   "metadata": {},
   "source": [
    "### Load data"
   ]
  },
  {
   "cell_type": "code",
   "execution_count": 19,
   "id": "9aad3e7c",
   "metadata": {},
   "outputs": [],
   "source": [
    "df = pd.read_pickle('./data/df.pkl')\n",
    "len_sent = joblib.load('./data/len_sent.h5')"
   ]
  },
  {
   "cell_type": "markdown",
   "id": "64075504",
   "metadata": {},
   "source": [
    "### Encode cateogories and save the references"
   ]
  },
  {
   "cell_type": "code",
   "execution_count": 20,
   "id": "7ae9a69c",
   "metadata": {},
   "outputs": [
    {
     "data": {
      "text/plain": [
       "['./data/levels']"
      ]
     },
     "execution_count": 20,
     "metadata": {},
     "output_type": "execute_result"
    }
   ],
   "source": [
    "nb_classes = len(np.unique(df['category']))\n",
    "labels, levels = pd.factorize(df['category'])        \n",
    "joblib.dump(nb_classes,'./data/nb_classes')\n",
    "joblib.dump(levels,'./data/levels')"
   ]
  },
  {
   "cell_type": "markdown",
   "id": "93efd176",
   "metadata": {},
   "source": [
    "### Split data \n",
    "\n",
    "We now split data into train and validation\n",
    "<div class=\"alert alert-block alert-info\">\n",
    "<b>Note</b> <p>In <b>2- PreProcess</b> we also splitted the data in order to have a testing set</p>\n",
    "</div>"
   ]
  },
  {
   "cell_type": "code",
   "execution_count": 21,
   "id": "1d50a530",
   "metadata": {},
   "outputs": [],
   "source": [
    "train_df, val_df = train_test_split(df,test_size=0.1, stratify=df['category'])"
   ]
  },
  {
   "cell_type": "markdown",
   "id": "e3d04d14",
   "metadata": {},
   "source": [
    "### Data preparation steps\n",
    "Here, we extract the values from the dataframes and generate the necessary encoded labels"
   ]
  },
  {
   "cell_type": "code",
   "execution_count": 22,
   "id": "55172c0c",
   "metadata": {},
   "outputs": [],
   "source": [
    "y = copy.deepcopy(train_df['category'].values)\n",
    "x = copy.deepcopy(train_df['input_data'].values)\n",
    "y_val_in = copy.deepcopy(val_df['category'].values)\n",
    "x_val_in = copy.deepcopy(val_df['input_data'].values)"
   ]
  },
  {
   "cell_type": "code",
   "execution_count": 23,
   "id": "716ac576",
   "metadata": {},
   "outputs": [],
   "source": [
    "x = np.stack(x)\n",
    "x_val = np.stack(x_val_in)"
   ]
  },
  {
   "cell_type": "code",
   "execution_count": 24,
   "id": "ff1376cd",
   "metadata": {},
   "outputs": [],
   "source": [
    "def indices_to_one_hot(data, nb_classes):\n",
    "    \"\"\"Convert an iterable of indices to one-hot encoded labels.\"\"\"\n",
    "    targets = np.array(data, dtype=np.int16).reshape(-1)\n",
    "    return np.eye(nb_classes,dtype=np.int8)[targets]"
   ]
  },
  {
   "cell_type": "code",
   "execution_count": 25,
   "id": "0a9620b1",
   "metadata": {},
   "outputs": [],
   "source": [
    "y = [np.where(levels==i)[0][0] for i in y]\n",
    "y_val = [np.where(levels==i)[0][0] for i in y_val_in]"
   ]
  },
  {
   "cell_type": "code",
   "execution_count": 26,
   "id": "567b2a15",
   "metadata": {},
   "outputs": [],
   "source": [
    "from sklearn.utils import class_weight\n",
    "class_weights = class_weight.compute_class_weight(class_weight ='balanced',\n",
    "                                                 classes = np.unique(y),\n",
    "                                                 y = y)\n",
    "class_weights = dict(zip(np.unique(y), class_weights))"
   ]
  },
  {
   "cell_type": "code",
   "execution_count": 27,
   "id": "f5e9f3fd",
   "metadata": {},
   "outputs": [],
   "source": [
    "y = indices_to_one_hot(y, nb_classes)\n",
    "y_val = indices_to_one_hot(y_val, nb_classes)"
   ]
  },
  {
   "cell_type": "markdown",
   "id": "506d4ea3",
   "metadata": {},
   "source": [
    "### Define model"
   ]
  },
  {
   "cell_type": "code",
   "execution_count": 28,
   "id": "b5b495a6",
   "metadata": {},
   "outputs": [],
   "source": [
    "output_shape = y_val.shape[1]"
   ]
  },
  {
   "cell_type": "code",
   "execution_count": 29,
   "id": "1d988492",
   "metadata": {},
   "outputs": [],
   "source": [
    "def cnn_model(input_dim, output_shape, path=''):\n",
    "    \n",
    "    weights = np.load(open(path+'/embeddings.npz', 'rb'))\n",
    "    embedding_dim = weights.shape[1]\n",
    "    \n",
    "    inputs = Input(shape=(input_dim,), dtype='int32')\n",
    "    \n",
    "    embedding = Embedding(output_dim=weights.shape[1], input_dim=weights.shape[0], input_length=input_dim,\n",
    "                              weights=[weights], trainable=True)(inputs)\n",
    "                              \n",
    "    spatial_dropout = SpatialDropout1D(0.5)(embedding)\n",
    "        \n",
    "    reshape = Reshape((input_dim, embedding_dim, 1))(spatial_dropout)\n",
    "\n",
    "    conv_0 = Conv2D(num_filters, (filter_sizes[0], embedding_dim), padding='valid', kernel_initializer='normal',\n",
    "                           activation='sigmoid', data_format='channels_last')(reshape)\n",
    "    conv_1 = Conv2D(num_filters, (filter_sizes[1], embedding_dim), padding='valid', kernel_initializer='normal',\n",
    "                           activation='sigmoid', data_format='channels_last')(reshape)\n",
    "    conv_2 = Conv2D(num_filters, (filter_sizes[2], embedding_dim), padding='valid', kernel_initializer='normal',\n",
    "                           activation='sigmoid', data_format='channels_last')(reshape)\n",
    "    conv_3 = Conv2D(num_filters, (filter_sizes[3], embedding_dim), padding='valid', kernel_initializer='normal',\n",
    "                       activation='sigmoid', data_format='channels_last')(reshape)\n",
    "\n",
    "\n",
    "    maxpool_0 = MaxPooling2D(pool_size=(input_dim - filter_sizes[0] + 1, 1), strides=(1, 1),\n",
    "                             padding='valid', data_format='channels_last')(conv_0)\n",
    "    maxpool_1 = MaxPooling2D(pool_size=(input_dim - filter_sizes[1] + 1, 1), strides=(1, 1),\n",
    "                             padding='valid', data_format='channels_last')(conv_1)\n",
    "    maxpool_2 = MaxPooling2D(pool_size=(input_dim - filter_sizes[2] + 1, 1), strides=(1, 1),\n",
    "                             padding='valid', data_format='channels_last')(conv_2)\n",
    "    maxpool_3 = MaxPooling2D(pool_size=(input_dim - filter_sizes[3] + 1, 1), strides=(1, 1),\n",
    "                             padding='valid', data_format='channels_last')(conv_3)\n",
    "\n",
    "    merged_tensor = concatenate([maxpool_0, maxpool_1, maxpool_2, maxpool_3], axis=1)\n",
    "    \n",
    "    flatten = Flatten()(merged_tensor)\n",
    "    \n",
    "    #dense1 = Dense(units=output_dim, kernel_regularizer=regularizers.l2(0.01))(flatten)\n",
    "    dense1 = Dense(units=output_dim)(flatten)\n",
    "    #dense1 = BatchNormalization()(dense1)\n",
    "    dense1 = Activation('relu')(dense1)\n",
    "    dense1 = Dropout(drop)(dense1)\n",
    "\n",
    "    #dense2 = Dense(units=output_dim, kernel_regularizer=regularizers.l2(0.01))(dense1)\n",
    "    dense2 = Dense(units=output_dim)(dense1)\n",
    "    #dense2 = BatchNormalization()(dense2)\n",
    "    dense2 = Activation('relu')(dense2)\n",
    "    dense2 = Dropout(drop)(dense2)\n",
    "\n",
    "    #dense2 = Dense(units=output_dim, activation='relu')(dense1)\n",
    "    #dense3 = Dense(units=output_dim, activation='relu')(dense2)\n",
    "    output = Dense(units=output_shape)(dense1)\n",
    "    #output = BatchNormalization()(output)\n",
    "    output = Activation('softmax')(output)\n",
    "\n",
    "\n",
    "    #output = Dense(units=output_shape, activation='softmax')(normalized_1)\n",
    "    \n",
    "    model = Model(inputs=inputs, outputs=output)\n",
    "    \n",
    "    return model"
   ]
  },
  {
   "cell_type": "code",
   "execution_count": 30,
   "id": "b5c0697c",
   "metadata": {},
   "outputs": [],
   "source": [
    "model = cnn_model(len_sent, output_shape, path='data')"
   ]
  },
  {
   "cell_type": "code",
   "execution_count": 31,
   "id": "fe6cdcaf",
   "metadata": {},
   "outputs": [],
   "source": [
    "adam = Adam(lr=1e-4, beta_1=0.9, beta_2=0.999, epsilon=1e-08)\n",
    "model.compile(optimizer=adam, loss='categorical_crossentropy', metrics=['accuracy'])\n",
    "model.save('./data/my_model.h5')"
   ]
  },
  {
   "cell_type": "code",
   "execution_count": 32,
   "id": "5969ea00",
   "metadata": {},
   "outputs": [],
   "source": [
    "checkpoint = ModelCheckpoint('./data/weights.hdf5', monitor='val_acc', verbose=2,\n",
    "                                             save_best_only=True, mode='auto')\n",
    "early_stopping = EarlyStopping(monitor='val_loss',patience=6, verbose = 1)\n",
    "reduceLR = ReduceLROnPlateau(monitor='val_loss',factor=0.33,patience=2,verbose = 1)"
   ]
  },
  {
   "cell_type": "code",
   "execution_count": 33,
   "id": "84a81c25",
   "metadata": {
    "scrolled": true
   },
   "outputs": [
    {
     "name": "stdout",
     "output_type": "stream",
     "text": [
      "Model: \"functional_3\"\n",
      "__________________________________________________________________________________________________\n",
      "Layer (type)                    Output Shape         Param #     Connected to                     \n",
      "==================================================================================================\n",
      "input_2 (InputLayer)            [(None, 23)]         0                                            \n",
      "__________________________________________________________________________________________________\n",
      "embedding_1 (Embedding)         (None, 23, 300)      1972500     input_2[0][0]                    \n",
      "__________________________________________________________________________________________________\n",
      "spatial_dropout1d_1 (SpatialDro (None, 23, 300)      0           embedding_1[0][0]                \n",
      "__________________________________________________________________________________________________\n",
      "reshape_1 (Reshape)             (None, 23, 300, 1)   0           spatial_dropout1d_1[0][0]        \n",
      "__________________________________________________________________________________________________\n",
      "conv2d_4 (Conv2D)               (None, 23, 1, 200)   60200       reshape_1[0][0]                  \n",
      "__________________________________________________________________________________________________\n",
      "conv2d_5 (Conv2D)               (None, 22, 1, 200)   120200      reshape_1[0][0]                  \n",
      "__________________________________________________________________________________________________\n",
      "conv2d_6 (Conv2D)               (None, 21, 1, 200)   180200      reshape_1[0][0]                  \n",
      "__________________________________________________________________________________________________\n",
      "conv2d_7 (Conv2D)               (None, 20, 1, 200)   240200      reshape_1[0][0]                  \n",
      "__________________________________________________________________________________________________\n",
      "max_pooling2d_4 (MaxPooling2D)  (None, 1, 1, 200)    0           conv2d_4[0][0]                   \n",
      "__________________________________________________________________________________________________\n",
      "max_pooling2d_5 (MaxPooling2D)  (None, 1, 1, 200)    0           conv2d_5[0][0]                   \n",
      "__________________________________________________________________________________________________\n",
      "max_pooling2d_6 (MaxPooling2D)  (None, 1, 1, 200)    0           conv2d_6[0][0]                   \n",
      "__________________________________________________________________________________________________\n",
      "max_pooling2d_7 (MaxPooling2D)  (None, 1, 1, 200)    0           conv2d_7[0][0]                   \n",
      "__________________________________________________________________________________________________\n",
      "concatenate_1 (Concatenate)     (None, 4, 1, 200)    0           max_pooling2d_4[0][0]            \n",
      "                                                                 max_pooling2d_5[0][0]            \n",
      "                                                                 max_pooling2d_6[0][0]            \n",
      "                                                                 max_pooling2d_7[0][0]            \n",
      "__________________________________________________________________________________________________\n",
      "flatten_1 (Flatten)             (None, 800)          0           concatenate_1[0][0]              \n",
      "__________________________________________________________________________________________________\n",
      "dense_3 (Dense)                 (None, 2000)         1602000     flatten_1[0][0]                  \n",
      "__________________________________________________________________________________________________\n",
      "activation_3 (Activation)       (None, 2000)         0           dense_3[0][0]                    \n",
      "__________________________________________________________________________________________________\n",
      "dropout_2 (Dropout)             (None, 2000)         0           activation_3[0][0]               \n",
      "__________________________________________________________________________________________________\n",
      "dense_5 (Dense)                 (None, 1561)         3123561     dropout_2[0][0]                  \n",
      "__________________________________________________________________________________________________\n",
      "activation_5 (Activation)       (None, 1561)         0           dense_5[0][0]                    \n",
      "==================================================================================================\n",
      "Total params: 7,298,861\n",
      "Trainable params: 7,298,861\n",
      "Non-trainable params: 0\n",
      "__________________________________________________________________________________________________\n"
     ]
    }
   ],
   "source": [
    "model.summary()"
   ]
  },
  {
   "cell_type": "code",
   "execution_count": 34,
   "id": "b8a4b28f",
   "metadata": {
    "scrolled": true
   },
   "outputs": [
    {
     "name": "stdout",
     "output_type": "stream",
     "text": [
      "Epoch 1/50\n",
      "317/317 [==============================] - ETA: 0s - loss: 7.3717 - accuracy: 7.9633e-04WARNING:tensorflow:Can save best model only with val_acc available, skipping.\n",
      "317/317 [==============================] - 36s 112ms/step - loss: 7.3717 - accuracy: 7.9633e-04 - val_loss: 7.3492 - val_accuracy: 0.0013\n",
      "Epoch 2/50\n",
      "317/317 [==============================] - ETA: 0s - loss: 7.3536 - accuracy: 8.0867e-04WARNING:tensorflow:Can save best model only with val_acc available, skipping.\n",
      "317/317 [==============================] - 35s 111ms/step - loss: 7.3536 - accuracy: 8.0867e-04 - val_loss: 7.3501 - val_accuracy: 0.0012\n",
      "Epoch 3/50\n",
      "317/317 [==============================] - ETA: 0s - loss: 7.3533 - accuracy: 0.0011WARNING:tensorflow:Can save best model only with val_acc available, skipping.\n",
      "317/317 [==============================] - 35s 111ms/step - loss: 7.3533 - accuracy: 0.0011 - val_loss: 7.3488 - val_accuracy: 0.0017\n",
      "Epoch 4/50\n",
      "317/317 [==============================] - ETA: 0s - loss: 7.3515 - accuracy: 0.0015WARNING:tensorflow:Can save best model only with val_acc available, skipping.\n",
      "317/317 [==============================] - 35s 111ms/step - loss: 7.3515 - accuracy: 0.0015 - val_loss: 7.3425 - val_accuracy: 0.0030\n",
      "Epoch 5/50\n",
      "317/317 [==============================] - ETA: 0s - loss: 7.3432 - accuracy: 0.0019WARNING:tensorflow:Can save best model only with val_acc available, skipping.\n",
      "317/317 [==============================] - 35s 111ms/step - loss: 7.3432 - accuracy: 0.0019 - val_loss: 7.3098 - val_accuracy: 0.0046\n",
      "Epoch 6/50\n",
      "317/317 [==============================] - ETA: 0s - loss: 7.2971 - accuracy: 0.0024WARNING:tensorflow:Can save best model only with val_acc available, skipping.\n",
      "317/317 [==============================] - 35s 111ms/step - loss: 7.2971 - accuracy: 0.0024 - val_loss: 7.0960 - val_accuracy: 0.0034\n",
      "Epoch 7/50\n",
      "317/317 [==============================] - ETA: 0s - loss: 7.1135 - accuracy: 0.0028WARNING:tensorflow:Can save best model only with val_acc available, skipping.\n",
      "317/317 [==============================] - 35s 111ms/step - loss: 7.1135 - accuracy: 0.0028 - val_loss: 6.7298 - val_accuracy: 0.0037\n",
      "Epoch 8/50\n",
      "317/317 [==============================] - ETA: 0s - loss: 6.9578 - accuracy: 0.0026WARNING:tensorflow:Can save best model only with val_acc available, skipping.\n",
      "317/317 [==============================] - 35s 111ms/step - loss: 6.9578 - accuracy: 0.0026 - val_loss: 6.6115 - val_accuracy: 0.0024\n",
      "Epoch 9/50\n",
      "317/317 [==============================] - ETA: 0s - loss: 6.8654 - accuracy: 0.0028WARNING:tensorflow:Can save best model only with val_acc available, skipping.\n",
      "317/317 [==============================] - 35s 111ms/step - loss: 6.8654 - accuracy: 0.0028 - val_loss: 6.5199 - val_accuracy: 0.0041\n",
      "Epoch 10/50\n",
      "317/317 [==============================] - ETA: 0s - loss: 6.7789 - accuracy: 0.0033WARNING:tensorflow:Can save best model only with val_acc available, skipping.\n",
      "317/317 [==============================] - 35s 111ms/step - loss: 6.7789 - accuracy: 0.0033 - val_loss: 6.4095 - val_accuracy: 0.0111\n",
      "Epoch 11/50\n",
      "317/317 [==============================] - ETA: 0s - loss: 6.6750 - accuracy: 0.0051WARNING:tensorflow:Can save best model only with val_acc available, skipping.\n",
      "317/317 [==============================] - 35s 111ms/step - loss: 6.6750 - accuracy: 0.0051 - val_loss: 6.2299 - val_accuracy: 0.0168\n",
      "Epoch 12/50\n",
      "317/317 [==============================] - ETA: 0s - loss: 6.5329 - accuracy: 0.0080WARNING:tensorflow:Can save best model only with val_acc available, skipping.\n",
      "317/317 [==============================] - 35s 111ms/step - loss: 6.5329 - accuracy: 0.0080 - val_loss: 6.0209 - val_accuracy: 0.0277\n",
      "Epoch 13/50\n",
      "317/317 [==============================] - ETA: 0s - loss: 6.3884 - accuracy: 0.0120WARNING:tensorflow:Can save best model only with val_acc available, skipping.\n",
      "317/317 [==============================] - 35s 111ms/step - loss: 6.3884 - accuracy: 0.0120 - val_loss: 5.8115 - val_accuracy: 0.0382\n",
      "Epoch 14/50\n",
      "317/317 [==============================] - ETA: 0s - loss: 6.2237 - accuracy: 0.0172WARNING:tensorflow:Can save best model only with val_acc available, skipping.\n",
      "317/317 [==============================] - 35s 111ms/step - loss: 6.2237 - accuracy: 0.0172 - val_loss: 5.5772 - val_accuracy: 0.0518\n",
      "Epoch 15/50\n",
      "317/317 [==============================] - ETA: 0s - loss: 6.0590 - accuracy: 0.0216WARNING:tensorflow:Can save best model only with val_acc available, skipping.\n",
      "317/317 [==============================] - 35s 111ms/step - loss: 6.0590 - accuracy: 0.0216 - val_loss: 5.3400 - val_accuracy: 0.0771\n",
      "Epoch 16/50\n",
      "317/317 [==============================] - ETA: 0s - loss: 5.8977 - accuracy: 0.0273WARNING:tensorflow:Can save best model only with val_acc available, skipping.\n",
      "317/317 [==============================] - 35s 111ms/step - loss: 5.8977 - accuracy: 0.0273 - val_loss: 5.1538 - val_accuracy: 0.1006\n",
      "Epoch 17/50\n",
      "317/317 [==============================] - ETA: 0s - loss: 5.7442 - accuracy: 0.0354WARNING:tensorflow:Can save best model only with val_acc available, skipping.\n",
      "317/317 [==============================] - 35s 111ms/step - loss: 5.7442 - accuracy: 0.0354 - val_loss: 4.9689 - val_accuracy: 0.1271\n",
      "Epoch 18/50\n",
      "317/317 [==============================] - ETA: 0s - loss: 5.5854 - accuracy: 0.0456WARNING:tensorflow:Can save best model only with val_acc available, skipping.\n",
      "317/317 [==============================] - 36s 113ms/step - loss: 5.5854 - accuracy: 0.0456 - val_loss: 4.7605 - val_accuracy: 0.1575\n",
      "Epoch 19/50\n",
      "317/317 [==============================] - ETA: 0s - loss: 5.4252 - accuracy: 0.0594WARNING:tensorflow:Can save best model only with val_acc available, skipping.\n",
      "317/317 [==============================] - 37s 118ms/step - loss: 5.4252 - accuracy: 0.0594 - val_loss: 4.5710 - val_accuracy: 0.1876\n",
      "Epoch 20/50\n",
      "317/317 [==============================] - ETA: 0s - loss: 5.2535 - accuracy: 0.0754WARNING:tensorflow:Can save best model only with val_acc available, skipping.\n",
      "317/317 [==============================] - 36s 112ms/step - loss: 5.2535 - accuracy: 0.0754 - val_loss: 4.3432 - val_accuracy: 0.2342\n",
      "Epoch 21/50\n",
      "317/317 [==============================] - ETA: 0s - loss: 5.0878 - accuracy: 0.0931WARNING:tensorflow:Can save best model only with val_acc available, skipping.\n",
      "317/317 [==============================] - 35s 111ms/step - loss: 5.0878 - accuracy: 0.0931 - val_loss: 4.1652 - val_accuracy: 0.2807\n",
      "Epoch 22/50\n",
      "317/317 [==============================] - ETA: 0s - loss: 4.9247 - accuracy: 0.1126WARNING:tensorflow:Can save best model only with val_acc available, skipping.\n",
      "317/317 [==============================] - 35s 112ms/step - loss: 4.9247 - accuracy: 0.1126 - val_loss: 3.9418 - val_accuracy: 0.3153\n",
      "Epoch 23/50\n",
      "317/317 [==============================] - ETA: 0s - loss: 4.7584 - accuracy: 0.1319WARNING:tensorflow:Can save best model only with val_acc available, skipping.\n",
      "317/317 [==============================] - 35s 111ms/step - loss: 4.7584 - accuracy: 0.1319 - val_loss: 3.7595 - val_accuracy: 0.3572\n",
      "Epoch 24/50\n",
      "317/317 [==============================] - ETA: 0s - loss: 4.6064 - accuracy: 0.1551WARNING:tensorflow:Can save best model only with val_acc available, skipping.\n",
      "317/317 [==============================] - 35s 111ms/step - loss: 4.6064 - accuracy: 0.1551 - val_loss: 3.6059 - val_accuracy: 0.3863\n",
      "Epoch 25/50\n",
      "317/317 [==============================] - ETA: 0s - loss: 4.4556 - accuracy: 0.1781WARNING:tensorflow:Can save best model only with val_acc available, skipping.\n",
      "317/317 [==============================] - 35s 111ms/step - loss: 4.4556 - accuracy: 0.1781 - val_loss: 3.4349 - val_accuracy: 0.4147\n",
      "Epoch 26/50\n",
      "317/317 [==============================] - ETA: 0s - loss: 4.3287 - accuracy: 0.1994WARNING:tensorflow:Can save best model only with val_acc available, skipping.\n",
      "317/317 [==============================] - 35s 111ms/step - loss: 4.3287 - accuracy: 0.1994 - val_loss: 3.2983 - val_accuracy: 0.4397\n",
      "Epoch 27/50\n",
      "317/317 [==============================] - ETA: 0s - loss: 4.1945 - accuracy: 0.2195WARNING:tensorflow:Can save best model only with val_acc available, skipping.\n",
      "317/317 [==============================] - 35s 111ms/step - loss: 4.1945 - accuracy: 0.2195 - val_loss: 3.1952 - val_accuracy: 0.4638\n"
     ]
    },
    {
     "name": "stdout",
     "output_type": "stream",
     "text": [
      "Epoch 28/50\n",
      "317/317 [==============================] - ETA: 0s - loss: 4.0686 - accuracy: 0.2422WARNING:tensorflow:Can save best model only with val_acc available, skipping.\n",
      "317/317 [==============================] - 35s 111ms/step - loss: 4.0686 - accuracy: 0.2422 - val_loss: 3.0508 - val_accuracy: 0.4853\n",
      "Epoch 29/50\n",
      "317/317 [==============================] - ETA: 0s - loss: 3.9429 - accuracy: 0.2617WARNING:tensorflow:Can save best model only with val_acc available, skipping.\n",
      "317/317 [==============================] - 35s 111ms/step - loss: 3.9429 - accuracy: 0.2617 - val_loss: 2.9443 - val_accuracy: 0.5034\n",
      "Epoch 30/50\n",
      "317/317 [==============================] - ETA: 0s - loss: 3.8425 - accuracy: 0.2829WARNING:tensorflow:Can save best model only with val_acc available, skipping.\n",
      "317/317 [==============================] - 35s 111ms/step - loss: 3.8425 - accuracy: 0.2829 - val_loss: 2.8417 - val_accuracy: 0.5232\n",
      "Epoch 31/50\n",
      "317/317 [==============================] - ETA: 0s - loss: 3.7416 - accuracy: 0.3007WARNING:tensorflow:Can save best model only with val_acc available, skipping.\n",
      "317/317 [==============================] - 35s 111ms/step - loss: 3.7416 - accuracy: 0.3007 - val_loss: 2.7534 - val_accuracy: 0.5316\n",
      "Epoch 32/50\n",
      "317/317 [==============================] - ETA: 0s - loss: 3.6304 - accuracy: 0.3200WARNING:tensorflow:Can save best model only with val_acc available, skipping.\n",
      "317/317 [==============================] - 35s 111ms/step - loss: 3.6304 - accuracy: 0.3200 - val_loss: 2.6705 - val_accuracy: 0.5471\n",
      "Epoch 33/50\n",
      "317/317 [==============================] - ETA: 0s - loss: 3.5444 - accuracy: 0.3392WARNING:tensorflow:Can save best model only with val_acc available, skipping.\n",
      "317/317 [==============================] - 35s 111ms/step - loss: 3.5444 - accuracy: 0.3392 - val_loss: 2.5819 - val_accuracy: 0.5579\n",
      "Epoch 34/50\n",
      "317/317 [==============================] - ETA: 0s - loss: 3.4504 - accuracy: 0.3574WARNING:tensorflow:Can save best model only with val_acc available, skipping.\n",
      "317/317 [==============================] - 35s 111ms/step - loss: 3.4504 - accuracy: 0.3574 - val_loss: 2.5070 - val_accuracy: 0.5718\n",
      "Epoch 35/50\n",
      "317/317 [==============================] - ETA: 0s - loss: 3.3611 - accuracy: 0.3754WARNING:tensorflow:Can save best model only with val_acc available, skipping.\n",
      "317/317 [==============================] - 35s 111ms/step - loss: 3.3611 - accuracy: 0.3754 - val_loss: 2.4510 - val_accuracy: 0.5812\n",
      "Epoch 36/50\n",
      "317/317 [==============================] - ETA: 0s - loss: 3.2732 - accuracy: 0.3887WARNING:tensorflow:Can save best model only with val_acc available, skipping.\n",
      "317/317 [==============================] - 35s 111ms/step - loss: 3.2732 - accuracy: 0.3887 - val_loss: 2.3804 - val_accuracy: 0.5913\n",
      "Epoch 37/50\n",
      "317/317 [==============================] - ETA: 0s - loss: 3.1856 - accuracy: 0.4049WARNING:tensorflow:Can save best model only with val_acc available, skipping.\n",
      "317/317 [==============================] - 35s 111ms/step - loss: 3.1856 - accuracy: 0.4049 - val_loss: 2.3491 - val_accuracy: 0.5974\n",
      "Epoch 38/50\n",
      "317/317 [==============================] - ETA: 0s - loss: 3.1103 - accuracy: 0.4200WARNING:tensorflow:Can save best model only with val_acc available, skipping.\n",
      "317/317 [==============================] - 35s 111ms/step - loss: 3.1103 - accuracy: 0.4200 - val_loss: 2.2847 - val_accuracy: 0.6056\n",
      "Epoch 39/50\n",
      "317/317 [==============================] - ETA: 0s - loss: 3.0326 - accuracy: 0.4337WARNING:tensorflow:Can save best model only with val_acc available, skipping.\n",
      "317/317 [==============================] - 35s 111ms/step - loss: 3.0326 - accuracy: 0.4337 - val_loss: 2.2455 - val_accuracy: 0.6113\n",
      "Epoch 40/50\n",
      "317/317 [==============================] - ETA: 0s - loss: 2.9637 - accuracy: 0.4446WARNING:tensorflow:Can save best model only with val_acc available, skipping.\n",
      "317/317 [==============================] - 35s 111ms/step - loss: 2.9637 - accuracy: 0.4446 - val_loss: 2.1946 - val_accuracy: 0.6187\n",
      "Epoch 41/50\n",
      "317/317 [==============================] - ETA: 0s - loss: 2.9070 - accuracy: 0.4561WARNING:tensorflow:Can save best model only with val_acc available, skipping.\n",
      "317/317 [==============================] - 35s 111ms/step - loss: 2.9070 - accuracy: 0.4561 - val_loss: 2.1679 - val_accuracy: 0.6253\n",
      "Epoch 42/50\n",
      "317/317 [==============================] - ETA: 0s - loss: 2.8400 - accuracy: 0.4686WARNING:tensorflow:Can save best model only with val_acc available, skipping.\n",
      "317/317 [==============================] - 35s 111ms/step - loss: 2.8400 - accuracy: 0.4686 - val_loss: 2.1258 - val_accuracy: 0.6308\n",
      "Epoch 43/50\n",
      "317/317 [==============================] - ETA: 0s - loss: 2.7691 - accuracy: 0.4797WARNING:tensorflow:Can save best model only with val_acc available, skipping.\n",
      "317/317 [==============================] - 35s 111ms/step - loss: 2.7691 - accuracy: 0.4797 - val_loss: 2.0873 - val_accuracy: 0.6373\n",
      "Epoch 44/50\n",
      "317/317 [==============================] - ETA: 0s - loss: 2.7090 - accuracy: 0.4908WARNING:tensorflow:Can save best model only with val_acc available, skipping.\n",
      "317/317 [==============================] - 35s 111ms/step - loss: 2.7090 - accuracy: 0.4908 - val_loss: 2.0512 - val_accuracy: 0.6419\n",
      "Epoch 45/50\n",
      "317/317 [==============================] - ETA: 0s - loss: 2.6593 - accuracy: 0.4996WARNING:tensorflow:Can save best model only with val_acc available, skipping.\n",
      "317/317 [==============================] - 35s 111ms/step - loss: 2.6593 - accuracy: 0.4996 - val_loss: 2.0272 - val_accuracy: 0.6453\n",
      "Epoch 46/50\n",
      "317/317 [==============================] - ETA: 0s - loss: 2.6100 - accuracy: 0.5087WARNING:tensorflow:Can save best model only with val_acc available, skipping.\n",
      "317/317 [==============================] - 35s 111ms/step - loss: 2.6100 - accuracy: 0.5087 - val_loss: 1.9998 - val_accuracy: 0.6501\n",
      "Epoch 47/50\n",
      "317/317 [==============================] - ETA: 0s - loss: 2.5499 - accuracy: 0.5189WARNING:tensorflow:Can save best model only with val_acc available, skipping.\n",
      "317/317 [==============================] - 35s 111ms/step - loss: 2.5499 - accuracy: 0.5189 - val_loss: 1.9843 - val_accuracy: 0.6503\n",
      "Epoch 48/50\n",
      "317/317 [==============================] - ETA: 0s - loss: 2.4924 - accuracy: 0.5265WARNING:tensorflow:Can save best model only with val_acc available, skipping.\n",
      "317/317 [==============================] - 35s 111ms/step - loss: 2.4924 - accuracy: 0.5265 - val_loss: 1.9429 - val_accuracy: 0.6579\n",
      "Epoch 49/50\n",
      "317/317 [==============================] - ETA: 0s - loss: 2.4688 - accuracy: 0.5324WARNING:tensorflow:Can save best model only with val_acc available, skipping.\n",
      "317/317 [==============================] - 35s 111ms/step - loss: 2.4688 - accuracy: 0.5324 - val_loss: 1.9200 - val_accuracy: 0.6587\n",
      "Epoch 50/50\n",
      "317/317 [==============================] - ETA: 0s - loss: 2.4090 - accuracy: 0.5404WARNING:tensorflow:Can save best model only with val_acc available, skipping.\n",
      "317/317 [==============================] - 35s 111ms/step - loss: 2.4090 - accuracy: 0.5404 - val_loss: 1.9089 - val_accuracy: 0.6617\n"
     ]
    }
   ],
   "source": [
    "history = model.fit(x, y, batch_size=batch_size, epochs=nb_epoch, verbose=1,\n",
    "                              callbacks=[checkpoint, early_stopping, reduceLR], validation_data=(x_val, y_val), class_weight=class_weights)"
   ]
  },
  {
   "cell_type": "markdown",
   "id": "c6bae20a",
   "metadata": {},
   "source": [
    "### Plot training"
   ]
  },
  {
   "cell_type": "code",
   "execution_count": 47,
   "id": "833ee5ec",
   "metadata": {},
   "outputs": [],
   "source": [
    "def plot_history(history, pref=None):\n",
    "    acc = history.history['accuracy']\n",
    "    val_acc = history.history['val_accuracy']\n",
    "    loss = history.history['loss']\n",
    "    val_loss = history.history['val_loss']\n",
    "    x = range(1, len(acc) + 1)\n",
    "\n",
    "    plt.figure(figsize=(12, 5))\n",
    "    plt.subplot(1, 2, 1)\n",
    "    plt.plot(x, acc, 'b', label='Training acc')\n",
    "    plt.plot(x, val_acc, 'r', label='Validation acc')\n",
    "    plt.title('Training and validation accuracy')\n",
    "    plt.legend()\n",
    "    plt.subplot(1, 2, 2)\n",
    "    plt.plot(x, loss, 'b', label='Training loss')\n",
    "    plt.plot(x, val_loss, 'r', label='Validation loss')\n",
    "    plt.title('Training and validation loss')\n",
    "    plt.legend()"
   ]
  },
  {
   "cell_type": "code",
   "execution_count": 50,
   "id": "ee36b7b3",
   "metadata": {},
   "outputs": [
    {
     "data": {
      "image/png": "[encoded data removed]",
      "text/plain": [
       "<Figure size 1200x500 with 2 Axes>"
      ]
     },
     "metadata": {},
     "output_type": "display_data"
    }
   ],
   "source": [
    "plot_history(history)"
   ]
  },
  {
   "cell_type": "markdown",
   "id": "517bc83a",
   "metadata": {},
   "source": [
    "### Calculat BACC on Test Set\n",
    "\n",
    "The metric used for evaluation in the challenge was Balanced Accuracy"
   ]
  },
  {
   "cell_type": "code",
   "execution_count": 52,
   "id": "4756c2e5",
   "metadata": {},
   "outputs": [],
   "source": [
    "df_test = pd.read_pickle('./data/df_test.pkl')\n",
    "xt = np.stack(df_test['input_data'])\n",
    "outputs = model.predict(xt)"
   ]
  },
  {
   "cell_type": "code",
   "execution_count": 53,
   "id": "6651b280",
   "metadata": {},
   "outputs": [],
   "source": [
    "yt = [np.where(levels==i)[0][0] for i in df_test['category']]"
   ]
  },
  {
   "cell_type": "code",
   "execution_count": 54,
   "id": "100cb493",
   "metadata": {},
   "outputs": [],
   "source": [
    "yt = np.array(yt)"
   ]
  },
  {
   "cell_type": "code",
   "execution_count": 55,
   "id": "6c32369f",
   "metadata": {},
   "outputs": [],
   "source": [
    "yt = indices_to_one_hot(yt, nb_classes)"
   ]
  },
  {
   "cell_type": "code",
   "execution_count": 57,
   "id": "89cf5d78",
   "metadata": {},
   "outputs": [
    {
     "name": "stderr",
     "output_type": "stream",
     "text": [
      "c:\\users\\basla\\documents\\projects\\bleandblog\\bleandblog_posts\\meli2019\\meli2019\\lib\\site-packages\\sklearn\\metrics\\_classification.py:2006: UserWarning: y_pred contains classes not in y_true\n",
      "  warnings.warn(\"y_pred contains classes not in y_true\")\n"
     ]
    }
   ],
   "source": [
    "bacc = balanced_accuracy_score(np.argmax(yt, axis=1), np.argmax(outputs, axis=1))"
   ]
  },
  {
   "cell_type": "code",
   "execution_count": 62,
   "id": "ccda8c41",
   "metadata": {},
   "outputs": [
    {
     "name": "stdout",
     "output_type": "stream",
     "text": [
      "Bacc: 60.94%\n"
     ]
    }
   ],
   "source": [
    "print(f\"Bacc: {round(bacc*100, 2)}%\")"
   ]
  },
  {
   "cell_type": "markdown",
   "id": "268a43ed",
   "metadata": {},
   "source": [
    "### Generate output file with predictions\n",
    "\n",
    "In order to analyze how each class is performing, we print in a csv file some detailed information\n",
    "\n",
    "This was used mostly to identify wordings specific to some classes that were replaced with generic tags using ReGex"
   ]
  },
  {
   "cell_type": "code",
   "execution_count": 70,
   "id": "b5a03a2b",
   "metadata": {},
   "outputs": [],
   "source": [
    "def output_csv(y_true,y_pred,  orig_test, pad_test, language='spanish', path='', bacc = 0):\n",
    "    levels = joblib.load('./data/levels')\n",
    "    csv_file = open('./data/Output_CNN.csv', 'w', newline='', encoding='utf-8')\n",
    "    writer = csv.writer(csv_file)\n",
    "    writer.writerow(\n",
    "        ['Original','Padded','Human', 'Pred', 'Prob', 'BACC'])\n",
    "    ix = 0\n",
    "    cat_true = []\n",
    "    cat_pred = []\n",
    "    first = 0\n",
    "    for y,h,o,p in zip(y_true,y_pred,orig_test, pad_test):\n",
    "        cat_true.append(levels[np.argmax(y)])\n",
    "        cat_pred.append(levels[np.argmax(h)])\n",
    "        if first == 0:\n",
    "            writer.writerow([o,p,levels[np.argmax(y)], levels[np.argmax(h)],h[np.argmax(h)],bacc])\n",
    "            first = 1\n",
    "        else:\n",
    "            writer.writerow([o,p,levels[np.argmax(y)], levels[np.argmax(h)], h[np.argmax(h)]])\n",
    "    report = classification_report(cat_true, cat_pred, output_dict=True)\n",
    "    df = pd.DataFrame(report)\n",
    "    df.to_csv('./data/Report.csv')\n",
    "\n",
    "    csv_file.close()"
   ]
  },
  {
   "cell_type": "code",
   "execution_count": 71,
   "id": "1bae3edc",
   "metadata": {
    "collapsed": true
   },
   "outputs": [
    {
     "name": "stderr",
     "output_type": "stream",
     "text": [
      "c:\\users\\basla\\documents\\projects\\bleandblog\\bleandblog_posts\\meli2019\\meli2019\\lib\\site-packages\\sklearn\\metrics\\_classification.py:1334: UndefinedMetricWarning: Precision and F-score are ill-defined and being set to 0.0 in labels with no predicted samples. Use `zero_division` parameter to control this behavior.\n",
      "  _warn_prf(average, modifier, msg_start, len(result))\n",
      "c:\\users\\basla\\documents\\projects\\bleandblog\\bleandblog_posts\\meli2019\\meli2019\\lib\\site-packages\\sklearn\\metrics\\_classification.py:1334: UndefinedMetricWarning: Recall and F-score are ill-defined and being set to 0.0 in labels with no true samples. Use `zero_division` parameter to control this behavior.\n",
      "  _warn_prf(average, modifier, msg_start, len(result))\n",
      "c:\\users\\basla\\documents\\projects\\bleandblog\\bleandblog_posts\\meli2019\\meli2019\\lib\\site-packages\\sklearn\\metrics\\_classification.py:1334: UndefinedMetricWarning: Precision and F-score are ill-defined and being set to 0.0 in labels with no predicted samples. Use `zero_division` parameter to control this behavior.\n",
      "  _warn_prf(average, modifier, msg_start, len(result))\n",
      "c:\\users\\basla\\documents\\projects\\bleandblog\\bleandblog_posts\\meli2019\\meli2019\\lib\\site-packages\\sklearn\\metrics\\_classification.py:1334: UndefinedMetricWarning: Recall and F-score are ill-defined and being set to 0.0 in labels with no true samples. Use `zero_division` parameter to control this behavior.\n",
      "  _warn_prf(average, modifier, msg_start, len(result))\n",
      "c:\\users\\basla\\documents\\projects\\bleandblog\\bleandblog_posts\\meli2019\\meli2019\\lib\\site-packages\\sklearn\\metrics\\_classification.py:1334: UndefinedMetricWarning: Precision and F-score are ill-defined and being set to 0.0 in labels with no predicted samples. Use `zero_division` parameter to control this behavior.\n",
      "  _warn_prf(average, modifier, msg_start, len(result))\n",
      "c:\\users\\basla\\documents\\projects\\bleandblog\\bleandblog_posts\\meli2019\\meli2019\\lib\\site-packages\\sklearn\\metrics\\_classification.py:1334: UndefinedMetricWarning: Recall and F-score are ill-defined and being set to 0.0 in labels with no true samples. Use `zero_division` parameter to control this behavior.\n",
      "  _warn_prf(average, modifier, msg_start, len(result))\n"
     ]
    }
   ],
   "source": [
    "output_csv(yt,outputs, df_test['title'].values, df_test['sentences_padded'].values, bacc = bacc)"
   ]
  },
  {
   "cell_type": "code",
   "execution_count": 72,
   "id": "fd83c14d",
   "metadata": {},
   "outputs": [
    {
     "data": {
      "text/html": [
       "<div>\n",
       "<style scoped>\n",
       "    .dataframe tbody tr th:only-of-type {\n",
       "        vertical-align: middle;\n",
       "    }\n",
       "\n",
       "    .dataframe tbody tr th {\n",
       "        vertical-align: top;\n",
       "    }\n",
       "\n",
       "    .dataframe thead th {\n",
       "        text-align: right;\n",
       "    }\n",
       "</style>\n",
       "<table border=\"1\" class=\"dataframe\">\n",
       "  <thead>\n",
       "    <tr style=\"text-align: right;\">\n",
       "      <th></th>\n",
       "      <th>Original</th>\n",
       "      <th>Padded</th>\n",
       "      <th>Human</th>\n",
       "      <th>Pred</th>\n",
       "      <th>Prob</th>\n",
       "      <th>BACC</th>\n",
       "    </tr>\n",
       "  </thead>\n",
       "  <tbody>\n",
       "    <tr>\n",
       "      <th>0</th>\n",
       "      <td>Chomba Bodysuit Old Navy Pique Talle 12/18 Mes...</td>\n",
       "      <td>['chomb', 'bodysuit', 'old', 'navy', 'piqu', '...</td>\n",
       "      <td>BABY_BODYSUITS</td>\n",
       "      <td>SWEATSHIRTS_AND_HOODIES</td>\n",
       "      <td>0.173360</td>\n",
       "      <td>0.609368</td>\n",
       "    </tr>\n",
       "    <tr>\n",
       "      <th>1</th>\n",
       "      <td>Portavaso Triades 169/c3 Fv Accesorio Baño Oferta</td>\n",
       "      <td>['portavas', 'triad', '&lt;number&gt;', '&lt;model&gt;', '...</td>\n",
       "      <td>TOOTHBRUSH_HOLDERS</td>\n",
       "      <td>SHOWER_HEADS</td>\n",
       "      <td>0.256168</td>\n",
       "      <td>NaN</td>\n",
       "    </tr>\n",
       "    <tr>\n",
       "      <th>2</th>\n",
       "      <td>Placas De Aglomerado Recubierto Tipo Técnico X...</td>\n",
       "      <td>['plac', 'aglomer', 'recubiert', 'tip', 'tecni...</td>\n",
       "      <td>DRYWALLS</td>\n",
       "      <td>DRYWALLS</td>\n",
       "      <td>0.101497</td>\n",
       "      <td>NaN</td>\n",
       "    </tr>\n",
       "    <tr>\n",
       "      <th>3</th>\n",
       "      <td>Tidog Mochila De Viaje Al Aire Libre Casual De...</td>\n",
       "      <td>['tidog', 'mochil', 'viaj', 'al_air', 'libr', ...</td>\n",
       "      <td>TACTICAL_BAGS_AND_BACKPACKS</td>\n",
       "      <td>TACTICAL_BAGS_AND_BACKPACKS</td>\n",
       "      <td>0.378200</td>\n",
       "      <td>NaN</td>\n",
       "    </tr>\n",
       "    <tr>\n",
       "      <th>4</th>\n",
       "      <td>Tiara Chiquita Plateada Ideal 15 Años Modelo E...</td>\n",
       "      <td>['tiar', 'chiquit', 'plat', 'ideal', '&lt;number&gt;...</td>\n",
       "      <td>HEADPIECES_TIARAS_AND_HEADBANDS</td>\n",
       "      <td>HEADPIECES_TIARAS_AND_HEADBANDS</td>\n",
       "      <td>0.701072</td>\n",
       "      <td>NaN</td>\n",
       "    </tr>\n",
       "  </tbody>\n",
       "</table>\n",
       "</div>"
      ],
      "text/plain": [
       "                                            Original  \\\n",
       "0  Chomba Bodysuit Old Navy Pique Talle 12/18 Mes...   \n",
       "1  Portavaso Triades 169/c3 Fv Accesorio Baño Oferta   \n",
       "2  Placas De Aglomerado Recubierto Tipo Técnico X...   \n",
       "3  Tidog Mochila De Viaje Al Aire Libre Casual De...   \n",
       "4  Tiara Chiquita Plateada Ideal 15 Años Modelo E...   \n",
       "\n",
       "                                              Padded  \\\n",
       "0  ['chomb', 'bodysuit', 'old', 'navy', 'piqu', '...   \n",
       "1  ['portavas', 'triad', '<number>', '<model>', '...   \n",
       "2  ['plac', 'aglomer', 'recubiert', 'tip', 'tecni...   \n",
       "3  ['tidog', 'mochil', 'viaj', 'al_air', 'libr', ...   \n",
       "4  ['tiar', 'chiquit', 'plat', 'ideal', '<number>...   \n",
       "\n",
       "                             Human                             Pred      Prob  \\\n",
       "0                   BABY_BODYSUITS          SWEATSHIRTS_AND_HOODIES  0.173360   \n",
       "1               TOOTHBRUSH_HOLDERS                     SHOWER_HEADS  0.256168   \n",
       "2                         DRYWALLS                         DRYWALLS  0.101497   \n",
       "3      TACTICAL_BAGS_AND_BACKPACKS      TACTICAL_BAGS_AND_BACKPACKS  0.378200   \n",
       "4  HEADPIECES_TIARAS_AND_HEADBANDS  HEADPIECES_TIARAS_AND_HEADBANDS  0.701072   \n",
       "\n",
       "       BACC  \n",
       "0  0.609368  \n",
       "1       NaN  \n",
       "2       NaN  \n",
       "3       NaN  \n",
       "4       NaN  "
      ]
     },
     "execution_count": 72,
     "metadata": {},
     "output_type": "execute_result"
    }
   ],
   "source": [
    "pd.read_csv('./data/Output_CNN.csv').head()"
   ]
  }
 ],
 "metadata": {
  "kernelspec": {
   "display_name": "meli2019",
   "language": "python",
   "name": "meli2019"
  },
  "language_info": {
   "codemirror_mode": {
    "name": "ipython",
    "version": 3
   },
   "file_extension": ".py",
   "mimetype": "text/x-python",
   "name": "python",
   "nbconvert_exporter": "python",
   "pygments_lexer": "ipython3",
   "version": "3.8.10"
  }
 },
 "nbformat": 4,
 "nbformat_minor": 5
}
