{
 "cells": [
  {
   "cell_type": "markdown",
   "id": "661d37da",
   "metadata": {},
   "source": [
    "## MeLi Data Challenge 2019\n",
    "\n",
    "This notebook is part of a curated version of my original solution for the MeLi Data Challenge hosted by [Mercado Libre](https://www.mercadolibre.com/) in 2019\n",
    "\n",
    "The goal of this first challenge was to create a model that would classify items into categories based solely on the item’s title. \n",
    "\n",
    "This title is a free text input from the seller that would become the header of the listings.\n",
    "\n",
    "### 2 - PreProcess\n",
    "\n",
    "In this notebook I'm collecting all the pre-processing steps and alternatives applied to the data"
   ]
  },
  {
   "cell_type": "code",
   "execution_count": 85,
   "id": "3c0d1af6",
   "metadata": {},
   "outputs": [],
   "source": [
    "import pandas as pd\n",
    "import unidecode\n",
    "import re\n",
    "from gensim.models.phrases import Phraser, Phrases\n",
    "from nltk.corpus import stopwords\n",
    "from nltk.stem import SnowballStemmer\n",
    "from tqdm.auto import tqdm\n",
    "tqdm.pandas()"
   ]
  },
  {
   "cell_type": "markdown",
   "id": "68bd6470",
   "metadata": {},
   "source": [
    "### Load Data\n",
    "\n",
    "It can be downloaded from here:\n",
    "- [train](https://meli-data-challenge.s3.amazonaws.com/train.csv.gz)\n",
    "\n",
    "- [test](https://meli-data-challenge.s3.amazonaws.com/test.csv)"
   ]
  },
  {
   "cell_type": "code",
   "execution_count": 8,
   "id": "2e05e852",
   "metadata": {},
   "outputs": [],
   "source": [
    "train_data = pd.read_csv('data/train.csv.gz', compression='gzip')\n",
    "test_data = pd.read_csv('data/test.csv')"
   ]
  },
  {
   "cell_type": "code",
   "execution_count": 23,
   "id": "3c17590b",
   "metadata": {},
   "outputs": [
    {
     "data": {
      "text/html": [
       "<div>\n",
       "<style scoped>\n",
       "    .dataframe tbody tr th:only-of-type {\n",
       "        vertical-align: middle;\n",
       "    }\n",
       "\n",
       "    .dataframe tbody tr th {\n",
       "        vertical-align: top;\n",
       "    }\n",
       "\n",
       "    .dataframe thead th {\n",
       "        text-align: right;\n",
       "    }\n",
       "</style>\n",
       "<table border=\"1\" class=\"dataframe\">\n",
       "  <thead>\n",
       "    <tr style=\"text-align: right;\">\n",
       "      <th></th>\n",
       "      <th>title</th>\n",
       "      <th>label_quality</th>\n",
       "      <th>language</th>\n",
       "      <th>category</th>\n",
       "    </tr>\n",
       "  </thead>\n",
       "  <tbody>\n",
       "    <tr>\n",
       "      <th>0</th>\n",
       "      <td>Hidrolavadora Lavor One 120 Bar 1700w  Bomba A...</td>\n",
       "      <td>unreliable</td>\n",
       "      <td>spanish</td>\n",
       "      <td>ELECTRIC_PRESSURE_WASHERS</td>\n",
       "    </tr>\n",
       "    <tr>\n",
       "      <th>1</th>\n",
       "      <td>Placa De Sonido - Behringer Umc22</td>\n",
       "      <td>unreliable</td>\n",
       "      <td>spanish</td>\n",
       "      <td>SOUND_CARDS</td>\n",
       "    </tr>\n",
       "    <tr>\n",
       "      <th>2</th>\n",
       "      <td>Maquina De Lavar Electrolux 12 Kilos</td>\n",
       "      <td>unreliable</td>\n",
       "      <td>portuguese</td>\n",
       "      <td>WASHING_MACHINES</td>\n",
       "    </tr>\n",
       "    <tr>\n",
       "      <th>3</th>\n",
       "      <td>Par Disco De Freio Diant Vent Gol 8v 08/ Frema...</td>\n",
       "      <td>unreliable</td>\n",
       "      <td>portuguese</td>\n",
       "      <td>VEHICLE_BRAKE_DISCS</td>\n",
       "    </tr>\n",
       "    <tr>\n",
       "      <th>4</th>\n",
       "      <td>Flashes Led Pestañas Luminoso Falso Pestañas P...</td>\n",
       "      <td>unreliable</td>\n",
       "      <td>spanish</td>\n",
       "      <td>FALSE_EYELASHES</td>\n",
       "    </tr>\n",
       "  </tbody>\n",
       "</table>\n",
       "</div>"
      ],
      "text/plain": [
       "                                               title label_quality  \\\n",
       "0  Hidrolavadora Lavor One 120 Bar 1700w  Bomba A...    unreliable   \n",
       "1                  Placa De Sonido - Behringer Umc22    unreliable   \n",
       "2               Maquina De Lavar Electrolux 12 Kilos    unreliable   \n",
       "3  Par Disco De Freio Diant Vent Gol 8v 08/ Frema...    unreliable   \n",
       "4  Flashes Led Pestañas Luminoso Falso Pestañas P...    unreliable   \n",
       "\n",
       "     language                   category  \n",
       "0     spanish  ELECTRIC_PRESSURE_WASHERS  \n",
       "1     spanish                SOUND_CARDS  \n",
       "2  portuguese           WASHING_MACHINES  \n",
       "3  portuguese        VEHICLE_BRAKE_DISCS  \n",
       "4     spanish            FALSE_EYELASHES  "
      ]
     },
     "execution_count": 23,
     "metadata": {},
     "output_type": "execute_result"
    }
   ],
   "source": [
    "train_data.head()"
   ]
  },
  {
   "cell_type": "markdown",
   "id": "dc3b2087",
   "metadata": {},
   "source": [
    "### Clean titles\n",
    "\n",
    "Many of the following steps should be run separately for each language.\n",
    "\n",
    "Here, we run all together, but in the final script data will be splitted."
   ]
  },
  {
   "cell_type": "markdown",
   "id": "cf405a9a",
   "metadata": {},
   "source": [
    "**Step 1**: run each title through unidecode to remove special characters present in spanish and portuguese"
   ]
  },
  {
   "cell_type": "code",
   "execution_count": 22,
   "id": "1644c3de",
   "metadata": {},
   "outputs": [
    {
     "name": "stdout",
     "output_type": "stream",
     "text": [
      "\n",
      " Original text: Pata Em Resina Decoração Jardim Aves Gansos Enfeites\n",
      "Processed text: Pata Em Resina Decoracao Jardim Aves Gansos Enfeites\n",
      "\n",
      " Original text: Flashes Led Pestañas Luminoso Falso Pestañas Para Partido \n",
      "Processed text: Flashes Led Pestanas Luminoso Falso Pestanas Para Partido \n"
     ]
    }
   ],
   "source": [
    "for text in train_data.iloc[[29, 4]].title.values:\n",
    "    print(f\"\\n Original text: {text}\")\n",
    "    print(f\"Processed text: {unidecode.unidecode(text)}\")"
   ]
  },
  {
   "cell_type": "markdown",
   "id": "fd593498",
   "metadata": {},
   "source": [
    "**Step 2**: Clean special cases using RegEx"
   ]
  },
  {
   "cell_type": "code",
   "execution_count": 47,
   "id": "eb48b338",
   "metadata": {},
   "outputs": [
    {
     "name": "stdout",
     "output_type": "stream",
     "text": [
      "\n",
      " Original text: Oportunidad!   Notebook Dell I3 - 4gb Ddr4 - Hd 1tb - Win 10\n",
      "Processed text: Oportunidad! Notebook Dell I3 - 4gb Ddr4 - Hd 1tb - Win 10\n",
      "\n",
      " Original text: Midinho O Missionário Velho Testamento 16 Dvds!!!!!!!!!!!!\n",
      "Processed text: Midinho O Missionário Velho Testamento 16 Dvds!!\n"
     ]
    }
   ],
   "source": [
    "# Remove extra spaces and characters repeated more than 3 times in a row\n",
    "for string in train_data.iloc[[38, 2602]].title.values:\n",
    "    stringA = re.sub(r\"\\s{2,}\", \" \", string)\n",
    "    stringB = re.sub(r'(.)\\1{3,}', r'\\1\\1', stringA)\n",
    "    if string != stringB:\n",
    "        print(f\"\\n Original text: {string}\")\n",
    "        print(f\"Processed text: {stringB}\")"
   ]
  },
  {
   "cell_type": "code",
   "execution_count": 55,
   "id": "6b226155",
   "metadata": {},
   "outputs": [
    {
     "name": "stdout",
     "output_type": "stream",
     "text": [
      "\n",
      " Original text: 4 Microaspersor Irrigação Ultra 7,20 Metros\n",
      "Processed text: 4 Microaspersor Irrigação Ultra  <smeasure> \n",
      "\n",
      " Original text: Kit Tripe Para Celular Ou Câmera Fotog 1,20m + Brinde + Nf-e\n",
      "Processed text: Kit Tripe Para Celular Ou Câmera Fotog  <smeasure>  + Brinde + Nf-e\n",
      "\n",
      " Original text: Tupia Coluna Laminadora P/ Fresa 6-8mm 1250w Mdf Acm Sh 220v\n",
      "Processed text: Tupia Coluna Laminadora P/ Fresa 6- <smeasure>  1250w Mdf Acm Sh 220v\n",
      "\n",
      " Original text: Base Simil Cemento - 30 Cm X 5 Mm\n",
      "Processed text: Base Simil Cemento -  <smeasure>  X  <smeasure> \n",
      "\n",
      " Original text: Faixa Auto Colante Cores Sortidas 10cm. \n",
      "Processed text: Faixa Auto Colante Cores Sortidas  <smeasure> . \n"
     ]
    }
   ],
   "source": [
    "# Find spatial measures and replace them with a special tag\n",
    "for string in train_data.head(50).title.values:\n",
    "    stringB = re.sub(r\"((\\d)+(\\,|\\.){0,1}(\\d)*( ){0,1}((mts*)|(pulgadas*)|('')|(polegadas*)|(m)|(mms*)|(cms*)|(metros*)|(mtrs*)|(centimetros*))+)(?!(?!x)[A-Za-z])\", \" <smeasure> \", string, flags=re.I)\n",
    "    if string != stringB:\n",
    "        print(f\"\\n Original text: {string}\")\n",
    "        print(f\"Processed text: {stringB}\")\n"
   ]
  },
  {
   "cell_type": "markdown",
   "id": "105c685c",
   "metadata": {},
   "source": [
    "**Step 3**\n",
    "Putting it all together (and adding a \"few\" more expressions):"
   ]
  },
  {
   "cell_type": "code",
   "execution_count": 58,
   "id": "59d828fb",
   "metadata": {},
   "outputs": [],
   "source": [
    "def clean_str(string):\n",
    "    \"\"\"\n",
    "    Tokenization/string cleaning for datasets.\n",
    "    Original taken from https://github.com/yoonkim/CNN_sentence/blob/master/process_data.py\n",
    "    \"\"\"\n",
    "    \n",
    "    string = unidecode.unidecode(string)\n",
    "    string = re.sub(r\"\\s{2,}\", \" \", string)\n",
    "    string = re.sub(r'(.)\\1{3,}', r'\\1\\1', string)\n",
    "    \n",
    "    string = re.sub(r'\\d{7,}', r' <longnumber> ', string)\n",
    "    string = re.sub(r'\\d{7,}', r' <longnumber> ', string)\n",
    "    string = re.sub(r'(?<=[A-Za-z])[\\d,]{10,}', r' <model> ', string)\n",
    "    string = re.sub(r'[\\d,]{10,}', r' <weird> ', string)\n",
    "    \n",
    "    # Spatial\n",
    "    string = re.sub(r\"((\\d)+(\\,|\\.){0,1}(\\d)*( ){0,1}((mts*)|(pulgadas*)|('')|\"\n",
    "                    \"(polegadas*)|(m)|(mms*)|(cms*)|(metros*)|(mtrs*)|(centimetros*))+)\"\n",
    "                    \"(?!(?!x)[A-Za-z])\", \" <smeasure> \", string, flags=re.I)\n",
    "    string = re.sub(r\"(mts)+( ){0,1}((\\d)+(\\,|\\.){0,1}(\\d)*)(?![A-Za-z])\", \" <smeasure> \", string, flags=re.I)\n",
    "    string = re.sub(r\"<smeasure> +[\\/x] +<smeasure> +[\\/x] +<smeasure>\", \" <smeasure> \", string, flags=re.I)\n",
    "    string = re.sub(r\"(<smeasure>|(\\d)+(\\,|\\.)*(\\d*)) +[\\/x] \"\n",
    "                    \"+(<smeasure>|(\\d)+(\\,|\\.)*(\\d*)) +[\\/x] +<smeasure>\", \" <smeasure> \", string, \n",
    "                    flags=re.I)\n",
    "    string = re.sub(r\"<smeasure> +[\\/x] +<smeasure>\", \" <smeasure> \", string, flags=re.I)\n",
    "    string = re.sub(r\"(?<![\\dA-Za-z])(<smeasure>|(\\d)+(\\,|\\.)*(\\d*)) *[\\/x-] *<smeasure>\", \n",
    "                    \" <smeasure> \", string, flags=re.I)\n",
    "    string = re.sub(r\"(?<![\\dA-Za-z])((\\d)+(\\,|\\.)*(\\d*))x((\\d)+(\\,|\\.)*(\\d*))x +<smeasure>\", \" <smeasure> \", \n",
    "                    string, flags=re.I)\n",
    "    \n",
    "    # Electrical\n",
    "    string = re.sub(r\"(?<![\\dA-Za-z])((\\d)+(\\,|\\.)*(\\d*)) *amperes\", \" <emeasure> \", string, flags=re.I)\n",
    "    string = re.sub(r\"(?<!(?<![\\dx])[\\dA-Za-z])((\\d)+(\\,|\\.)*(\\d*)) *amps*\", \" <emeasure> \", string, flags=re.I)\n",
    "    string = re.sub(r\"(?<![\\dA-Za-z])((\\d)+(\\,|\\.)*(\\d*)) *mah\", \" <emeasure> \", string, flags=re.I)\n",
    "    string = re.sub(r\"(?<![\\dA-Za-z])((\\d)+(\\,|\\.)*(\\d*)) *vol.\", \" <emeasure> \", string, flags=re.I)\n",
    "    string = re.sub(r\"\\b(?<![\\dA-Za-z])((\\d)+(\\,|\\.)*(\\d*)) *kw\\b\", \" <emeasure> \", string, flags=re.I)\n",
    "    string = re.sub(r\"\\b(?<![\\dA-Za-z])((\\d)+(\\,|\\.)*(\\d*)) *v+\\b\", \" <emeasure> \", string, flags=re.I)\n",
    "    string = re.sub(r\"(?<![\\dA-Za-z])((\\d)+(\\,|\\.)*(\\d*)) *volts*\", \" <emeasure> \", string, flags=re.I)\n",
    "    string = re.sub(r\"(?<![\\dA-Za-z])((\\d)+(\\,|\\.)*(\\d*)) *w(ts)*(?![\\dA-Za-z])\", \" <emeasure> \", \n",
    "                    string, flags=re.I)\n",
    "    \n",
    "    # Pressure\n",
    "    string = re.sub(r\"(?<![\\dA-Za-z])((\\d)+(\\,|\\.)*(\\d*)) *psi\", \" <pmeasure> \", string, flags=re.I)\n",
    "    string = re.sub(r\"(?<![\\dA-Za-z])((\\d)+(\\,|\\.)*(\\d*)) *bar\", \" <pmeasure> \", string, flags=re.I)\n",
    "    \n",
    "    # Weights\n",
    "    string = re.sub(r\"(?<![\\dA-Za-z])((\\d)+(\\,|\\.)*(\\d*)) *kgs*\", \" <wmeasure> \", string, flags=re.I)\n",
    "    string = re.sub(r\"(?<![\\dA-Za-z])((\\d)+(\\,|\\.)*(\\d*)) *kilos*\", \" <wmeasure> \", string, flags=re.I)\n",
    "    string = re.sub(r\"\\b(?<![\\dA-Za-z])((\\d)+(\\,|\\.)*(\\d*)) *g\\b\", \" <wmeasure> \", string, flags=re.I)\n",
    "    \n",
    "    # IT\n",
    "    string = re.sub(r\"(?<![\\dA-Za-z])((\\d)+(\\,|\\.)*(\\d*)) *tb\", \" <itmeasure> \", string, flags=re.I)\n",
    "    string = re.sub(r\"(?<![\\dA-Za-z])((\\d)+(\\,|\\.)*(\\d*)) *gb\", \" <itmeasure> \", string, flags=re.I)\n",
    "    \n",
    "    # Volume\n",
    "    string = re.sub(r\"(?<![\\dA-Za-z])((\\d)+(\\,|\\.)*(\\d*)) *cc(?![0-9])\", \" <vmeasure> \", string, flags=re.I)\n",
    "    string = re.sub(r\"(?<![\\dA-Za-z])((\\d)+(\\,|\\.)*(\\d*)) *litros*\", \" <vmeasure> \", string, flags=re.I)\n",
    "    string = re.sub(r\"(?<![\\dA-Za-z])((\\d)+(\\,|\\.)*(\\d*))litrs*\", \" <vmeasure> \", string, flags=re.I)\n",
    "    string = re.sub(r\"\\b(?<![\\dA-Za-z])((\\d)+(\\,|\\.)*(\\d*)) *l+\\b\", \" <vmeasure> \", string, flags=re.I)\n",
    "    string = re.sub(r\"(?<![\\dA-Za-z])((\\d)+(\\,|\\.)*(\\d*)) *mls*\", \" <vmeasure> \", string, flags=re.I)\n",
    "    string = re.sub(r\"(?<![\\dA-Za-z])((\\d)+(\\,|\\.)*(\\d*)) *ltrs*\", \" <vmeasure> \", string, flags=re.I)\n",
    "    \n",
    "    # Horse power\n",
    "    string = re.sub(r\"\\b(?<![\\dA-Za-z])(\\d)+ *cv\\b\", \" <hpmeasure> \", string, flags=re.I)\n",
    "    string = re.sub(r\"\\b(?<![\\dA-Za-z])((\\d)+(\\,|\\.)*(\\d*))+ *hp\\b\", \" <hpmeasure> \", string, flags=re.I)\n",
    "    \n",
    "    # Time\n",
    "    string = re.sub(r\"\\b(?<![\\dA-Za-z])((\\d)+(\\:)*(\\d*)) *hs*(?![\\d])\\b\", \" <time> \", string, flags=re.I)\n",
    "    \n",
    "    # Quantity\n",
    "    string = re.sub(r\"\\bX\\d{1,4}\\b\", \" <quantity> \", string, flags=re.I)\n",
    "    \n",
    "    # Money\n",
    "    string = re.sub(r\"(?<![\\dA-Za-z])\\$ *((\\d)+(\\,|\\.)*(\\d*))\", \" <money> \", string, flags=re.I)\n",
    "    \n",
    "    # Dimension (could be smeasure too)\n",
    "    string = re.sub(r\"(((\\d)+(\\,|\\.)*(\\d*))+ {0,1}(x|\\*){1} {0,1}((\\d)+(\\,|\\.)*(\\d*))+)\"\n",
    "                    \"+( {0,1}(x|\\*){1} {0,1}((\\d)+(\\,|\\.)*(\\d*))+)*\", \" <dimension> \", string, flags=re.I) \n",
    "    \n",
    "    # Resolution\n",
    "    string = re.sub(r\"\\b(?<![A-Za-z\\-])\\d+p\\b\", \" <res> \", string)\n",
    "    \n",
    "    # Date\n",
    "    string = re.sub(r\"\\b\\d{2}-\\d{2}-(19\\d{2}|20\\d{2})\\b\", \" <date> \", string)\n",
    "\n",
    "    # Model\n",
    "    string = re.sub(r\"(?<!\\d{4})[A-Za-z\\-]+\\d+[A-Za-z\\-\\.0-9]*\", \" <model> \", string, flags=re.I)\n",
    "    string = re.sub(r\"[A-Za-z\\-\\.0-9]*\\d+[A-Za-z\\-](?!\\d{4})\", \" <model> \", string, flags=re.I)\n",
    "    string = re.sub(r\"<model> \\d+\", \" <model> \", string, flags=re.I)\n",
    "    string = re.sub(r\"\\d+ <model>\", \" <model> \", string, flags=re.I)\n",
    "    \n",
    "    # Years\n",
    "    string = re.sub(r\"(?<![A-Za-z0-9])19\\d{2}|20\\d{2}(?![A-Za-z0-9])\", \" <year> \", string)\n",
    "    \n",
    "    # Numbers\n",
    "    string = re.sub(r\"[-+]?[.\\d]*[\\d]+[:,.\\d]*\", \" <number> \", string)\n",
    "    \n",
    "    # String cleanup\n",
    "    string = re.sub(r\",\", \" , \", string)\n",
    "    string = re.sub(r\"/\", \" / \", string)\n",
    "    string = re.sub(r\"!\", \" ! \", string)\n",
    "    string = re.sub(r\"\\*\", \" * \", string)\n",
    "    string = re.sub(r\"\\(\", \" ( \", string)\n",
    "    string = re.sub(r\"\\)\", \" ) \", string)\n",
    "    string = re.sub(r\"\\?\", \" ? \", string)\n",
    "    string = re.sub(r\"#\\S+\", \" <hashtag> \" , string)\n",
    "    string = re.sub(r\"\\\\\", \" \", string)\n",
    "    string = re.sub(r\"\\+\", \" \", string)\n",
    "    string = re.sub(r\"\\d+\", \" <number> \", string)\n",
    "    string = re.sub(r\"[^A-Za-z0-9(),!?\\'\\`<>]\", \" \", string, flags=re.I)\n",
    "    string = re.sub(r\"\\s{2,}\", \" \", string)\n",
    "    \n",
    "    return string.strip().lower()"
   ]
  },
  {
   "cell_type": "code",
   "execution_count": 59,
   "id": "5f6d56f2",
   "metadata": {},
   "outputs": [
    {
     "name": "stdout",
     "output_type": "stream",
     "text": [
      "\n",
      " Input string: Bacha Mi Pileta 703e Doble Encastrable 98x43x20 Box Incluye\n",
      "Clean string: bacha mi pileta <model> doble encastrable <dimension> box incluye\n",
      "\n",
      " Input string: Cardone 36-108 Transductor Remanufacturado De Control De Cru\n",
      "Clean string: cardone <model> transductor remanufacturado de control de cru\n",
      "\n",
      " Input string: Thunder Ms16c Atril De Musica Liviano Y Funda  2 Opiniones\n",
      "Clean string: thunder <model> atril de musica liviano y funda <number> opiniones\n",
      "\n",
      " Input string: Fantoche De Mão Pato Animais Domésticos\n",
      "Clean string: fantoche de mao pato animais domesticos\n",
      "\n",
      " Input string: Vinilo Decorativo Prohibido Rendirse Adhesivo Hogar Tienda\n",
      "Clean string: vinilo decorativo prohibido rendirse adhesivo hogar tienda\n"
     ]
    }
   ],
   "source": [
    "for string in train_data.sample(5).title.values:\n",
    "    print(f\"\\n Input string: {string}\")\n",
    "    print(f\"Clean string: {clean_str(string)}\")    "
   ]
  },
  {
   "cell_type": "markdown",
   "id": "11e2cf76",
   "metadata": {},
   "source": [
    "**Apply cleaning to entire dataset**\n",
    "\n",
    "Considering that it is a 20M rows dataset, this process is quite time consuming. That's the reasong why it is performed separately and the results stored."
   ]
  },
  {
   "cell_type": "code",
   "execution_count": 62,
   "id": "56bf9cba",
   "metadata": {},
   "outputs": [
    {
     "data": {
      "application/json": {
       "ascii": false,
       "bar_format": null,
       "colour": null,
       "elapsed": 0.03832292556762695,
       "initial": 0,
       "n": 0,
       "ncols": null,
       "nrows": 65,
       "postfix": null,
       "prefix": "",
       "rate": null,
       "total": 20000000,
       "unit": "it",
       "unit_divisor": 1000,
       "unit_scale": false
      },
      "application/vnd.jupyter.widget-view+json": {
       "model_id": "3a654e84e3d740aaa4b1ae7ff2fadfc1",
       "version_major": 2,
       "version_minor": 0
      },
      "text/plain": [
       "  0%|          | 0/20000000 [00:00<?, ?it/s]"
      ]
     },
     "metadata": {},
     "output_type": "display_data"
    }
   ],
   "source": [
    "train_data['clean_title'] = train_data.progress_apply(lambda x : clean_str(x['title']), axis=1)"
   ]
  },
  {
   "cell_type": "markdown",
   "id": "f129282b",
   "metadata": {},
   "source": [
    "**Save cleaned dataset**"
   ]
  },
  {
   "cell_type": "code",
   "execution_count": 63,
   "id": "433cd70c",
   "metadata": {},
   "outputs": [],
   "source": [
    "train_data.to_csv('data/train.csv')"
   ]
  },
  {
   "cell_type": "markdown",
   "id": "3e140393",
   "metadata": {},
   "source": [
    "### Bigrams"
   ]
  },
  {
   "cell_type": "code",
   "execution_count": 64,
   "id": "e4b8083b",
   "metadata": {},
   "outputs": [],
   "source": [
    "sentences = train_data['clean_title'].astype(str)"
   ]
  },
  {
   "cell_type": "code",
   "execution_count": 70,
   "id": "d4ab001c",
   "metadata": {},
   "outputs": [],
   "source": [
    "# Now that the text is clean, we can split it into words just by splitting on spaces\n",
    "x_text = [s.split(\" \") for s in sentences]"
   ]
  },
  {
   "cell_type": "code",
   "execution_count": 67,
   "id": "6667eaaa",
   "metadata": {},
   "outputs": [],
   "source": [
    "bigram = Phraser(Phrases(x_text, min_count=100, threshold=20))"
   ]
  },
  {
   "cell_type": "code",
   "execution_count": 71,
   "id": "ac376a32",
   "metadata": {},
   "outputs": [],
   "source": [
    "x_text = [bigram[text] for text in x_text]"
   ]
  },
  {
   "cell_type": "markdown",
   "id": "ade4c9ae",
   "metadata": {},
   "source": [
    "### Remove stopwords"
   ]
  },
  {
   "cell_type": "code",
   "execution_count": 75,
   "id": "74cc9974",
   "metadata": {},
   "outputs": [],
   "source": [
    "def remove_stopwords(sentences, lang='english'):\n",
    "    try:\n",
    "        stpwrds = stopwords.words(lang)\n",
    "    except Exception:\n",
    "        stpwrds = stopwords.words('spanish')\n",
    "        \n",
    "    out_sentences = [[w for w in sentence if w not in stpwrds] for sentence in sentences]\n",
    "\n",
    "    return out_sentences"
   ]
  },
  {
   "cell_type": "code",
   "execution_count": 81,
   "id": "20947890",
   "metadata": {},
   "outputs": [],
   "source": [
    "x_text = remove_stopwords(x_text, lang='spanish')"
   ]
  },
  {
   "cell_type": "markdown",
   "id": "9f96255b",
   "metadata": {},
   "source": [
    "### Stemming"
   ]
  },
  {
   "cell_type": "code",
   "execution_count": 82,
   "id": "c1e4ba6f",
   "metadata": {},
   "outputs": [],
   "source": [
    "def text_stemming(sentences, lang='english'):\n",
    "    try:\n",
    "        stemmer = SnowballStemmer(lang)\n",
    "    except Exception:\n",
    "        stemmer = SnowballStemmer('spanish')\n",
    "    \n",
    "    out_text = [[stemmer.stem(i) for i in text] for text in sentences]\n",
    "\n",
    "    return out_text"
   ]
  },
  {
   "cell_type": "code",
   "execution_count": 86,
   "id": "bb721c5a",
   "metadata": {},
   "outputs": [
    {
     "data": {
      "text/plain": [
       "[['hidrolav',\n",
       "  'lavor',\n",
       "  'one',\n",
       "  '<pmeasure>',\n",
       "  '<emeasure>',\n",
       "  'bomb',\n",
       "  'alumini',\n",
       "  'itali'],\n",
       " ['plac', 'son', 'behring', '<model>'],\n",
       " ['maquin', 'lavar_electrolux', '<wmeasure>'],\n",
       " ['par',\n",
       "  'disc',\n",
       "  'frei',\n",
       "  'diant',\n",
       "  'vent',\n",
       "  'gol',\n",
       "  '<emeasure>',\n",
       "  '<number>',\n",
       "  'fremax',\n",
       "  '<model>'],\n",
       " ['flash', 'led', 'pestan', 'lumin', 'falso_pestan', 'part'],\n",
       " ['<number>', 'microaspersor', 'irrigaca', 'ultra', '<smeasure>'],\n",
       " ['raquet', 'clash', '<number>', 'tour', 'nov'],\n",
       " ['kit', 'trip', 'celul', 'ou', 'camer', 'fotog', '<smeasure>', 'brind', 'nf'],\n",
       " ['filtr', 'ar', 'bonanz', '<year>', '<year>', '<model>'],\n",
       " ['gatit', 'luncher', 'neopren']]"
      ]
     },
     "execution_count": 86,
     "metadata": {},
     "output_type": "execute_result"
    }
   ],
   "source": [
    "x_text = text_stemming(x_text, lang='spanish')"
   ]
  },
  {
   "cell_type": "code",
   "execution_count": null,
   "id": "c3b74fe4",
   "metadata": {},
   "outputs": [],
   "source": []
  }
 ],
 "metadata": {
  "kernelspec": {
   "display_name": "meli2019",
   "language": "python",
   "name": "meli2019"
  },
  "language_info": {
   "codemirror_mode": {
    "name": "ipython",
    "version": 3
   },
   "file_extension": ".py",
   "mimetype": "text/x-python",
   "name": "python",
   "nbconvert_exporter": "python",
   "pygments_lexer": "ipython3",
   "version": "3.7.13"
  }
 },
 "nbformat": 4,
 "nbformat_minor": 5
}
